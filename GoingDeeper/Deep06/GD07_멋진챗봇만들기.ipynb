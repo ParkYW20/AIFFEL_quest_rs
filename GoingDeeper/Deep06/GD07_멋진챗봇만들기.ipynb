{
 "cells": [
  {
   "cell_type": "code",
   "execution_count": 1,
   "id": "52937c5d",
   "metadata": {},
   "outputs": [
    {
     "name": "stdout",
     "output_type": "stream",
     "text": [
      "1.21.4\n",
      "1.3.3\n",
      "2.6.0\n",
      "3.6.5\n"
     ]
    }
   ],
   "source": [
    "import numpy \n",
    "import pandas \n",
    "import tensorflow \n",
    "import nltk\n",
    "# import gensim\n",
    "\n",
    "print(numpy.__version__)\n",
    "print(pandas.__version__)\n",
    "print(tensorflow.__version__)\n",
    "print(nltk.__version__)\n",
    "# print(gensim.__version__)"
   ]
  },
  {
   "cell_type": "code",
   "execution_count": 2,
   "id": "7ab121e2",
   "metadata": {},
   "outputs": [
    {
     "name": "stdout",
     "output_type": "stream",
     "text": [
      "Collecting gensim==3.8.3\n",
      "  Downloading gensim-3.8.3.tar.gz (23.4 MB)\n",
      "     |████████████████████████████████| 23.4 MB 4.8 MB/s            \n",
      "\u001b[?25h  Preparing metadata (setup.py) ... \u001b[?25ldone\n",
      "\u001b[?25hRequirement already satisfied: numpy>=1.11.3 in /opt/conda/lib/python3.9/site-packages (from gensim==3.8.3) (1.21.4)\n",
      "Requirement already satisfied: scipy>=0.18.1 in /opt/conda/lib/python3.9/site-packages (from gensim==3.8.3) (1.7.1)\n",
      "Requirement already satisfied: six>=1.5.0 in /opt/conda/lib/python3.9/site-packages (from gensim==3.8.3) (1.16.0)\n",
      "Requirement already satisfied: smart_open>=1.8.1 in /opt/conda/lib/python3.9/site-packages (from gensim==3.8.3) (5.2.1)\n",
      "Building wheels for collected packages: gensim\n",
      "  Building wheel for gensim (setup.py) ... \u001b[?25ldone\n",
      "\u001b[?25h  Created wheel for gensim: filename=gensim-3.8.3-cp39-cp39-linux_x86_64.whl size=24328218 sha256=8af2887bcda08bd4ee56767f5c2bf3bad89446c2548be19d4398090cfa796de5\n",
      "  Stored in directory: /aiffel/.cache/pip/wheels/ca/5d/af/618594ec2f28608c1d6ee7d2b7e95a3e9b06551e3b80a491d6\n",
      "Successfully built gensim\n",
      "Installing collected packages: gensim\n",
      "  Attempting uninstall: gensim\n",
      "    Found existing installation: gensim 4.1.2\n",
      "    Uninstalling gensim-4.1.2:\n",
      "      Successfully uninstalled gensim-4.1.2\n",
      "Successfully installed gensim-3.8.3\n",
      "\u001b[33mWARNING: Running pip as the 'root' user can result in broken permissions and conflicting behaviour with the system package manager. It is recommended to use a virtual environment instead: https://pip.pypa.io/warnings/venv\u001b[0m\n"
     ]
    }
   ],
   "source": [
    "!pip install gensim==3.8.3"
   ]
  },
  {
   "cell_type": "code",
   "execution_count": 3,
   "id": "917df4f5",
   "metadata": {},
   "outputs": [
    {
     "name": "stdout",
     "output_type": "stream",
     "text": [
      "3.8.3\n"
     ]
    }
   ],
   "source": [
    "import gensim\n",
    "print(gensim.__version__)"
   ]
  },
  {
   "cell_type": "code",
   "execution_count": 4,
   "id": "8fb34455",
   "metadata": {},
   "outputs": [],
   "source": [
    "import pandas as pd\n",
    "import re"
   ]
  },
  {
   "cell_type": "code",
   "execution_count": 22,
   "id": "1084f586",
   "metadata": {},
   "outputs": [
    {
     "name": "stdout",
     "output_type": "stream",
     "text": [
      "Requirement already satisfied: konlpy in /opt/conda/lib/python3.9/site-packages (0.5.2)\n",
      "Requirement already satisfied: colorama in /opt/conda/lib/python3.9/site-packages (from konlpy) (0.4.4)\n",
      "Requirement already satisfied: tweepy>=3.7.0 in /opt/conda/lib/python3.9/site-packages (from konlpy) (3.10.0)\n",
      "Requirement already satisfied: JPype1>=0.7.0 in /opt/conda/lib/python3.9/site-packages (from konlpy) (1.3.0)\n",
      "Requirement already satisfied: lxml>=4.1.0 in /opt/conda/lib/python3.9/site-packages (from konlpy) (4.6.3)\n",
      "Requirement already satisfied: beautifulsoup4==4.6.0 in /opt/conda/lib/python3.9/site-packages (from konlpy) (4.6.0)\n",
      "Requirement already satisfied: numpy>=1.6 in /opt/conda/lib/python3.9/site-packages (from konlpy) (1.21.4)\n",
      "Requirement already satisfied: requests-oauthlib>=0.7.0 in /opt/conda/lib/python3.9/site-packages (from tweepy>=3.7.0->konlpy) (1.3.0)\n",
      "Requirement already satisfied: six>=1.10.0 in /opt/conda/lib/python3.9/site-packages (from tweepy>=3.7.0->konlpy) (1.16.0)\n",
      "Requirement already satisfied: requests[socks]>=2.11.1 in /opt/conda/lib/python3.9/site-packages (from tweepy>=3.7.0->konlpy) (2.26.0)\n",
      "Requirement already satisfied: oauthlib>=3.0.0 in /opt/conda/lib/python3.9/site-packages (from requests-oauthlib>=0.7.0->tweepy>=3.7.0->konlpy) (3.1.1)\n",
      "Requirement already satisfied: idna<4,>=2.5 in /opt/conda/lib/python3.9/site-packages (from requests[socks]>=2.11.1->tweepy>=3.7.0->konlpy) (2.10)\n",
      "Requirement already satisfied: certifi>=2017.4.17 in /opt/conda/lib/python3.9/site-packages (from requests[socks]>=2.11.1->tweepy>=3.7.0->konlpy) (2021.10.8)\n",
      "Requirement already satisfied: charset-normalizer~=2.0.0 in /opt/conda/lib/python3.9/site-packages (from requests[socks]>=2.11.1->tweepy>=3.7.0->konlpy) (2.0.8)\n",
      "Requirement already satisfied: urllib3<1.27,>=1.21.1 in /opt/conda/lib/python3.9/site-packages (from requests[socks]>=2.11.1->tweepy>=3.7.0->konlpy) (1.26.7)\n",
      "Requirement already satisfied: PySocks!=1.5.7,>=1.5.6 in /opt/conda/lib/python3.9/site-packages (from requests[socks]>=2.11.1->tweepy>=3.7.0->konlpy) (1.7.1)\n",
      "\u001b[33mWARNING: Running pip as the 'root' user can result in broken permissions and conflicting behaviour with the system package manager. It is recommended to use a virtual environment instead: https://pip.pypa.io/warnings/venv\u001b[0m\n"
     ]
    }
   ],
   "source": [
    "# !pip install konlpy"
   ]
  },
  {
   "cell_type": "code",
   "execution_count": 5,
   "id": "12a208aa",
   "metadata": {},
   "outputs": [],
   "source": [
    "from konlpy.tag import Mecab"
   ]
  },
  {
   "cell_type": "code",
   "execution_count": 32,
   "id": "7ab5f5b5",
   "metadata": {},
   "outputs": [],
   "source": [
    "import tensorflow as tf"
   ]
  },
  {
   "cell_type": "markdown",
   "id": "6fd0ed06",
   "metadata": {},
   "source": [
    "# 1. data download"
   ]
  },
  {
   "cell_type": "code",
   "execution_count": 8,
   "id": "d6aab9ed",
   "metadata": {},
   "outputs": [
    {
     "name": "stdout",
     "output_type": "stream",
     "text": [
      "Cloning into '/aiffel/aiffel/AIFFEL_quest_rs/GoingDeeper/Deep06/data'...\n",
      "remote: Enumerating objects: 69, done.\u001b[K\n",
      "remote: Counting objects: 100% (21/21), done.\u001b[K\n",
      "remote: Compressing objects: 100% (17/17), done.\u001b[K\n",
      "remote: Total 69 (delta 18), reused 4 (delta 4), pack-reused 48 (from 1)\u001b[K\n",
      "Unpacking objects: 100% (69/69), 398.63 KiB | 3.44 MiB/s, done.\n"
     ]
    }
   ],
   "source": [
    "# !git clone https://github.com/songys/Chatbot_data.git /aiffel/aiffel/AIFFEL_quest_rs/GoingDeeper/Deep06/data"
   ]
  },
  {
   "cell_type": "code",
   "execution_count": 6,
   "id": "335597ab",
   "metadata": {},
   "outputs": [],
   "source": [
    "data_dir_path = '/aiffel/aiffel/AIFFEL_quest_rs/GoingDeeper/Deep06/data'\n",
    "\n",
    "df = pd.read_csv(data_dir_path + '/ChatbotData.csv')"
   ]
  },
  {
   "cell_type": "code",
   "execution_count": 7,
   "id": "7707c338",
   "metadata": {},
   "outputs": [
    {
     "data": {
      "text/html": [
       "<div>\n",
       "<style scoped>\n",
       "    .dataframe tbody tr th:only-of-type {\n",
       "        vertical-align: middle;\n",
       "    }\n",
       "\n",
       "    .dataframe tbody tr th {\n",
       "        vertical-align: top;\n",
       "    }\n",
       "\n",
       "    .dataframe thead th {\n",
       "        text-align: right;\n",
       "    }\n",
       "</style>\n",
       "<table border=\"1\" class=\"dataframe\">\n",
       "  <thead>\n",
       "    <tr style=\"text-align: right;\">\n",
       "      <th></th>\n",
       "      <th>Q</th>\n",
       "      <th>A</th>\n",
       "      <th>label</th>\n",
       "    </tr>\n",
       "  </thead>\n",
       "  <tbody>\n",
       "    <tr>\n",
       "      <th>0</th>\n",
       "      <td>12시 땡!</td>\n",
       "      <td>하루가 또 가네요.</td>\n",
       "      <td>0</td>\n",
       "    </tr>\n",
       "    <tr>\n",
       "      <th>1</th>\n",
       "      <td>1지망 학교 떨어졌어</td>\n",
       "      <td>위로해 드립니다.</td>\n",
       "      <td>0</td>\n",
       "    </tr>\n",
       "    <tr>\n",
       "      <th>2</th>\n",
       "      <td>3박4일 놀러가고 싶다</td>\n",
       "      <td>여행은 언제나 좋죠.</td>\n",
       "      <td>0</td>\n",
       "    </tr>\n",
       "    <tr>\n",
       "      <th>3</th>\n",
       "      <td>3박4일 정도 놀러가고 싶다</td>\n",
       "      <td>여행은 언제나 좋죠.</td>\n",
       "      <td>0</td>\n",
       "    </tr>\n",
       "    <tr>\n",
       "      <th>4</th>\n",
       "      <td>PPL 심하네</td>\n",
       "      <td>눈살이 찌푸려지죠.</td>\n",
       "      <td>0</td>\n",
       "    </tr>\n",
       "    <tr>\n",
       "      <th>5</th>\n",
       "      <td>SD카드 망가졌어</td>\n",
       "      <td>다시 새로 사는 게 마음 편해요.</td>\n",
       "      <td>0</td>\n",
       "    </tr>\n",
       "    <tr>\n",
       "      <th>6</th>\n",
       "      <td>SD카드 안돼</td>\n",
       "      <td>다시 새로 사는 게 마음 편해요.</td>\n",
       "      <td>0</td>\n",
       "    </tr>\n",
       "    <tr>\n",
       "      <th>7</th>\n",
       "      <td>SNS 맞팔 왜 안하지ㅠㅠ</td>\n",
       "      <td>잘 모르고 있을 수도 있어요.</td>\n",
       "      <td>0</td>\n",
       "    </tr>\n",
       "    <tr>\n",
       "      <th>8</th>\n",
       "      <td>SNS 시간낭비인 거 아는데 매일 하는 중</td>\n",
       "      <td>시간을 정하고 해보세요.</td>\n",
       "      <td>0</td>\n",
       "    </tr>\n",
       "    <tr>\n",
       "      <th>9</th>\n",
       "      <td>SNS 시간낭비인데 자꾸 보게됨</td>\n",
       "      <td>시간을 정하고 해보세요.</td>\n",
       "      <td>0</td>\n",
       "    </tr>\n",
       "    <tr>\n",
       "      <th>10</th>\n",
       "      <td>SNS보면 나만 빼고 다 행복해보여</td>\n",
       "      <td>자랑하는 자리니까요.</td>\n",
       "      <td>0</td>\n",
       "    </tr>\n",
       "    <tr>\n",
       "      <th>11</th>\n",
       "      <td>가끔 궁금해</td>\n",
       "      <td>그 사람도 그럴 거예요.</td>\n",
       "      <td>0</td>\n",
       "    </tr>\n",
       "    <tr>\n",
       "      <th>12</th>\n",
       "      <td>가끔 뭐하는지 궁금해</td>\n",
       "      <td>그 사람도 그럴 거예요.</td>\n",
       "      <td>0</td>\n",
       "    </tr>\n",
       "    <tr>\n",
       "      <th>13</th>\n",
       "      <td>가끔은 혼자인게 좋다</td>\n",
       "      <td>혼자를 즐기세요.</td>\n",
       "      <td>0</td>\n",
       "    </tr>\n",
       "    <tr>\n",
       "      <th>14</th>\n",
       "      <td>가난한 자의 설움</td>\n",
       "      <td>돈은 다시 들어올 거예요.</td>\n",
       "      <td>0</td>\n",
       "    </tr>\n",
       "    <tr>\n",
       "      <th>15</th>\n",
       "      <td>가만 있어도 땀난다</td>\n",
       "      <td>땀을 식혀주세요.</td>\n",
       "      <td>0</td>\n",
       "    </tr>\n",
       "    <tr>\n",
       "      <th>16</th>\n",
       "      <td>가상화폐 쫄딱 망함</td>\n",
       "      <td>어서 잊고 새출발 하세요.</td>\n",
       "      <td>0</td>\n",
       "    </tr>\n",
       "    <tr>\n",
       "      <th>17</th>\n",
       "      <td>가스불 켜고 나갔어</td>\n",
       "      <td>빨리 집에 돌아가서 끄고 나오세요.</td>\n",
       "      <td>0</td>\n",
       "    </tr>\n",
       "    <tr>\n",
       "      <th>18</th>\n",
       "      <td>가스불 켜놓고 나온거 같아</td>\n",
       "      <td>빨리 집에 돌아가서 끄고 나오세요.</td>\n",
       "      <td>0</td>\n",
       "    </tr>\n",
       "    <tr>\n",
       "      <th>19</th>\n",
       "      <td>가스비 너무 많이 나왔다.</td>\n",
       "      <td>다음 달에는 더 절약해봐요.</td>\n",
       "      <td>0</td>\n",
       "    </tr>\n",
       "  </tbody>\n",
       "</table>\n",
       "</div>"
      ],
      "text/plain": [
       "                          Q                    A  label\n",
       "0                    12시 땡!           하루가 또 가네요.      0\n",
       "1               1지망 학교 떨어졌어            위로해 드립니다.      0\n",
       "2              3박4일 놀러가고 싶다          여행은 언제나 좋죠.      0\n",
       "3           3박4일 정도 놀러가고 싶다          여행은 언제나 좋죠.      0\n",
       "4                   PPL 심하네           눈살이 찌푸려지죠.      0\n",
       "5                 SD카드 망가졌어   다시 새로 사는 게 마음 편해요.      0\n",
       "6                   SD카드 안돼   다시 새로 사는 게 마음 편해요.      0\n",
       "7            SNS 맞팔 왜 안하지ㅠㅠ     잘 모르고 있을 수도 있어요.      0\n",
       "8   SNS 시간낭비인 거 아는데 매일 하는 중        시간을 정하고 해보세요.      0\n",
       "9         SNS 시간낭비인데 자꾸 보게됨        시간을 정하고 해보세요.      0\n",
       "10      SNS보면 나만 빼고 다 행복해보여          자랑하는 자리니까요.      0\n",
       "11                   가끔 궁금해        그 사람도 그럴 거예요.      0\n",
       "12              가끔 뭐하는지 궁금해        그 사람도 그럴 거예요.      0\n",
       "13              가끔은 혼자인게 좋다            혼자를 즐기세요.      0\n",
       "14                가난한 자의 설움       돈은 다시 들어올 거예요.      0\n",
       "15               가만 있어도 땀난다            땀을 식혀주세요.      0\n",
       "16               가상화폐 쫄딱 망함       어서 잊고 새출발 하세요.      0\n",
       "17               가스불 켜고 나갔어  빨리 집에 돌아가서 끄고 나오세요.      0\n",
       "18           가스불 켜놓고 나온거 같아  빨리 집에 돌아가서 끄고 나오세요.      0\n",
       "19           가스비 너무 많이 나왔다.      다음 달에는 더 절약해봐요.      0"
      ]
     },
     "execution_count": 7,
     "metadata": {},
     "output_type": "execute_result"
    }
   ],
   "source": [
    "df.head(20)"
   ]
  },
  {
   "cell_type": "code",
   "execution_count": 6,
   "id": "cb5f18fd",
   "metadata": {},
   "outputs": [
    {
     "name": "stdout",
     "output_type": "stream",
     "text": [
      "<class 'pandas.core.frame.DataFrame'>\n",
      "RangeIndex: 11823 entries, 0 to 11822\n",
      "Data columns (total 3 columns):\n",
      " #   Column  Non-Null Count  Dtype \n",
      "---  ------  --------------  ----- \n",
      " 0   Q       11823 non-null  object\n",
      " 1   A       11823 non-null  object\n",
      " 2   label   11823 non-null  int64 \n",
      "dtypes: int64(1), object(2)\n",
      "memory usage: 277.2+ KB\n"
     ]
    }
   ],
   "source": [
    "df.info()"
   ]
  },
  {
   "cell_type": "markdown",
   "id": "7b2b370a",
   "metadata": {},
   "source": [
    "### df['Q'] 중복 데이터 개수 확인"
   ]
  },
  {
   "cell_type": "code",
   "execution_count": 67,
   "id": "1d887432",
   "metadata": {},
   "outputs": [
    {
     "data": {
      "text/plain": [
       "0                     12시 땡!\n",
       "1                1지망 학교 떨어졌어\n",
       "2               3박4일 놀러가고 싶다\n",
       "3            3박4일 정도 놀러가고 싶다\n",
       "4                    PPL 심하네\n",
       "5                  SD카드 망가졌어\n",
       "6                    SD카드 안돼\n",
       "7             SNS 맞팔 왜 안하지ㅠㅠ\n",
       "8    SNS 시간낭비인 거 아는데 매일 하는 중\n",
       "9          SNS 시간낭비인데 자꾸 보게됨\n",
       "Name: Q, dtype: object"
      ]
     },
     "execution_count": 67,
     "metadata": {},
     "output_type": "execute_result"
    }
   ],
   "source": [
    "sample_df_Q = df.loc[:, 'Q'].copy()\n",
    "sample_df_Q.head(10)"
   ]
  },
  {
   "cell_type": "code",
   "execution_count": 68,
   "id": "00bbb721",
   "metadata": {},
   "outputs": [
    {
     "data": {
      "text/plain": [
       "11823"
      ]
     },
     "execution_count": 68,
     "metadata": {},
     "output_type": "execute_result"
    }
   ],
   "source": [
    "len(sample_df_Q)"
   ]
  },
  {
   "cell_type": "code",
   "execution_count": 69,
   "id": "63f4b204",
   "metadata": {},
   "outputs": [
    {
     "data": {
      "text/plain": [
       "11662"
      ]
     },
     "execution_count": 69,
     "metadata": {},
     "output_type": "execute_result"
    }
   ],
   "source": [
    "sample = list(set(sample_df_Q))\n",
    "len(sample)"
   ]
  },
  {
   "cell_type": "markdown",
   "id": "011e30dd",
   "metadata": {},
   "source": [
    "# 2. data preprocessing"
   ]
  },
  {
   "cell_type": "code",
   "execution_count": 8,
   "id": "7314bc34",
   "metadata": {},
   "outputs": [],
   "source": [
    "def preprocess_sentence(sentence) :\n",
    "    sentence = sentence.lower()\n",
    "    sentence = re.sub(r'[^a-zA-Z가-힣0-9.,!?]+', '', sentence)\n",
    "    \n",
    "    return sentence"
   ]
  },
  {
   "cell_type": "markdown",
   "id": "a17f4347",
   "metadata": {},
   "source": [
    "# 3. data tokenization\n",
    "- 소스 문장 데이터와 타겟 문장 데이터를 입력으로 받습니다.\n",
    "- 데이터를 앞서 정의한 preprocess_sentence() 함수로 정제하고, 토큰화합니다.\n",
    "- 토큰화는 전달받은 토크나이즈 함수를 사용합니다. 이번엔 mecab.morphs 함수를 전달하시면 됩니다.\n",
    "- 토큰의 개수가 일정 길이 이상인 문장은 데이터에서 제외합니다.\n",
    "- 중복되는 문장은 데이터에서 제외합니다. 소스 : 타겟 쌍을 비교하지 않고 소스는 소스대로 타겟은 타겟대로 검사합니다. 중복 쌍이 흐트러지지 않도록 유의하세요!"
   ]
  },
  {
   "cell_type": "code",
   "execution_count": 9,
   "id": "bdafaf4a",
   "metadata": {},
   "outputs": [],
   "source": [
    "mecab = Mecab()"
   ]
  },
  {
   "cell_type": "markdown",
   "id": "5d916e07",
   "metadata": {},
   "source": [
    "### build_corpus() 첫 번째 시도"
   ]
  },
  {
   "cell_type": "code",
   "execution_count": 12,
   "id": "3c9646a4",
   "metadata": {},
   "outputs": [],
   "source": [
    "def build_corpus(src_data, tgt_data, tokenizer, token_n_max):  \n",
    "    # 소스와 타겟 문장 데이터 처리\n",
    "    src_corpus, tgt_corpus = [], []\n",
    "    \n",
    "    for data, corpus in zip([src_data, tgt_data], [src_corpus, tgt_corpus]):\n",
    "        for s in data:\n",
    "            clean_s = preprocess_sentence(s)  # 문장 정제\n",
    "            tokenized_s = tokenizer.morphs(clean_s)  # 토큰화\n",
    "            \n",
    "            # 토큰 개수가 일정 길이 이하인 경우에만 추가\n",
    "            if len(tokenized_s) <= token_n_max:\n",
    "#                 corpus.append(\" \".join(tokenized_s))  # 토큰 리스트를 문자열로 결합하여 추가\n",
    "                corpus.append(tokenized_s)\n",
    "                \n",
    "                \n",
    "    # 중복 문장 제거 (1) - TypeError: unhashable type: 'list'\n",
    "#     src_corpus = list(set(src_corpus))\n",
    "#     tgt_corpus = list(set(tgt_corpus))\n",
    "    # 중복 문장 제거 (2) - AssertionError: error: 문장 개수 불일치!\n",
    "    src_corpus = list(map(list, set(map(tuple, src_corpus))))\n",
    "    tgt_corpus = list(map(list, set(map(tuple, tgt_corpus))))\n",
    "    # 중복 문장 제거 (3)\n",
    "    \n",
    "    \n",
    "    # 문장 개수 확인\n",
    "    assert len(src_corpus) == len(tgt_corpus), \"error: 문장 개수 불일치!\"\n",
    "    \n",
    "    return src_corpus, tgt_corpus\n"
   ]
  },
  {
   "cell_type": "markdown",
   "id": "7b7ce7b0",
   "metadata": {},
   "source": [
    "### 에러 발생 (1) TypeError: unhashable type: 'list'"
   ]
  },
  {
   "cell_type": "code",
   "execution_count": 41,
   "id": "e707959d",
   "metadata": {},
   "outputs": [
    {
     "ename": "TypeError",
     "evalue": "unhashable type: 'list'",
     "output_type": "error",
     "traceback": [
      "\u001b[0;31m---------------------------------------------------------------------------\u001b[0m",
      "\u001b[0;31mTypeError\u001b[0m                                 Traceback (most recent call last)",
      "\u001b[0;32m/tmp/ipykernel_38/2491535946.py\u001b[0m in \u001b[0;36m<module>\u001b[0;34m\u001b[0m\n\u001b[1;32m      3\u001b[0m \u001b[0mTOKEN_N_MAX\u001b[0m \u001b[0;34m=\u001b[0m \u001b[0;36m40\u001b[0m\u001b[0;34m\u001b[0m\u001b[0;34m\u001b[0m\u001b[0m\n\u001b[1;32m      4\u001b[0m \u001b[0;34m\u001b[0m\u001b[0m\n\u001b[0;32m----> 5\u001b[0;31m \u001b[0mque_corpus\u001b[0m \u001b[0;34m,\u001b[0m \u001b[0mans_corpus\u001b[0m \u001b[0;34m=\u001b[0m \u001b[0mbuild_corpus\u001b[0m\u001b[0;34m(\u001b[0m\u001b[0msrc_data\u001b[0m\u001b[0;34m,\u001b[0m \u001b[0mtgt_data\u001b[0m\u001b[0;34m,\u001b[0m \u001b[0mmecab\u001b[0m\u001b[0;34m,\u001b[0m \u001b[0mTOKEN_N_MAX\u001b[0m\u001b[0;34m)\u001b[0m\u001b[0;34m\u001b[0m\u001b[0;34m\u001b[0m\u001b[0m\n\u001b[0m",
      "\u001b[0;32m/tmp/ipykernel_38/1639460416.py\u001b[0m in \u001b[0;36mbuild_corpus\u001b[0;34m(src_data, tgt_data, tokenizer, token_n_max)\u001b[0m\n\u001b[1;32m     15\u001b[0m \u001b[0;34m\u001b[0m\u001b[0m\n\u001b[1;32m     16\u001b[0m     \u001b[0;31m# 중복 문장 제거\u001b[0m\u001b[0;34m\u001b[0m\u001b[0;34m\u001b[0m\u001b[0m\n\u001b[0;32m---> 17\u001b[0;31m     \u001b[0msrc_corpus\u001b[0m \u001b[0;34m=\u001b[0m \u001b[0mlist\u001b[0m\u001b[0;34m(\u001b[0m\u001b[0mset\u001b[0m\u001b[0;34m(\u001b[0m\u001b[0msrc_corpus\u001b[0m\u001b[0;34m)\u001b[0m\u001b[0;34m)\u001b[0m\u001b[0;34m\u001b[0m\u001b[0;34m\u001b[0m\u001b[0m\n\u001b[0m\u001b[1;32m     18\u001b[0m     \u001b[0mtgt_corpus\u001b[0m \u001b[0;34m=\u001b[0m \u001b[0mlist\u001b[0m\u001b[0;34m(\u001b[0m\u001b[0mset\u001b[0m\u001b[0;34m(\u001b[0m\u001b[0mtgt_corpus\u001b[0m\u001b[0;34m)\u001b[0m\u001b[0;34m)\u001b[0m\u001b[0;34m\u001b[0m\u001b[0;34m\u001b[0m\u001b[0m\n\u001b[1;32m     19\u001b[0m \u001b[0;34m\u001b[0m\u001b[0m\n",
      "\u001b[0;31mTypeError\u001b[0m: unhashable type: 'list'"
     ]
    }
   ],
   "source": [
    "src_data = list(df.loc[:, 'Q'].copy())\n",
    "tgt_data = list(df.loc[:, 'A'].copy())\n",
    "TOKEN_N_MAX = 40\n",
    "\n",
    "que_corpus , ans_corpus = build_corpus(src_data, tgt_data, mecab, TOKEN_N_MAX)"
   ]
  },
  {
   "cell_type": "markdown",
   "id": "0350643e",
   "metadata": {},
   "source": [
    "### 에러 발생 (2) error: 문장 개수 불일치!"
   ]
  },
  {
   "cell_type": "code",
   "execution_count": 43,
   "id": "c281a9f0",
   "metadata": {},
   "outputs": [
    {
     "ename": "AssertionError",
     "evalue": "error: 문장 개수 불일치!",
     "output_type": "error",
     "traceback": [
      "\u001b[0;31m---------------------------------------------------------------------------\u001b[0m",
      "\u001b[0;31mAssertionError\u001b[0m                            Traceback (most recent call last)",
      "\u001b[0;32m/tmp/ipykernel_38/2491535946.py\u001b[0m in \u001b[0;36m<module>\u001b[0;34m\u001b[0m\n\u001b[1;32m      3\u001b[0m \u001b[0mTOKEN_N_MAX\u001b[0m \u001b[0;34m=\u001b[0m \u001b[0;36m40\u001b[0m\u001b[0;34m\u001b[0m\u001b[0;34m\u001b[0m\u001b[0m\n\u001b[1;32m      4\u001b[0m \u001b[0;34m\u001b[0m\u001b[0m\n\u001b[0;32m----> 5\u001b[0;31m \u001b[0mque_corpus\u001b[0m \u001b[0;34m,\u001b[0m \u001b[0mans_corpus\u001b[0m \u001b[0;34m=\u001b[0m \u001b[0mbuild_corpus\u001b[0m\u001b[0;34m(\u001b[0m\u001b[0msrc_data\u001b[0m\u001b[0;34m,\u001b[0m \u001b[0mtgt_data\u001b[0m\u001b[0;34m,\u001b[0m \u001b[0mmecab\u001b[0m\u001b[0;34m,\u001b[0m \u001b[0mTOKEN_N_MAX\u001b[0m\u001b[0;34m)\u001b[0m\u001b[0;34m\u001b[0m\u001b[0;34m\u001b[0m\u001b[0m\n\u001b[0m",
      "\u001b[0;32m/tmp/ipykernel_38/2969749791.py\u001b[0m in \u001b[0;36mbuild_corpus\u001b[0;34m(src_data, tgt_data, tokenizer, token_n_max)\u001b[0m\n\u001b[1;32m     21\u001b[0m \u001b[0;34m\u001b[0m\u001b[0m\n\u001b[1;32m     22\u001b[0m     \u001b[0;31m# 문장 개수 확인\u001b[0m\u001b[0;34m\u001b[0m\u001b[0;34m\u001b[0m\u001b[0m\n\u001b[0;32m---> 23\u001b[0;31m     \u001b[0;32massert\u001b[0m \u001b[0mlen\u001b[0m\u001b[0;34m(\u001b[0m\u001b[0msrc_corpus\u001b[0m\u001b[0;34m)\u001b[0m \u001b[0;34m==\u001b[0m \u001b[0mlen\u001b[0m\u001b[0;34m(\u001b[0m\u001b[0mtgt_corpus\u001b[0m\u001b[0;34m)\u001b[0m\u001b[0;34m,\u001b[0m \u001b[0;34m\"error: 문장 개수 불일치!\"\u001b[0m\u001b[0;34m\u001b[0m\u001b[0;34m\u001b[0m\u001b[0m\n\u001b[0m\u001b[1;32m     24\u001b[0m \u001b[0;34m\u001b[0m\u001b[0m\n\u001b[1;32m     25\u001b[0m     \u001b[0;32mreturn\u001b[0m \u001b[0msrc_corpus\u001b[0m\u001b[0;34m,\u001b[0m \u001b[0mtgt_corpus\u001b[0m\u001b[0;34m\u001b[0m\u001b[0;34m\u001b[0m\u001b[0m\n",
      "\u001b[0;31mAssertionError\u001b[0m: error: 문장 개수 불일치!"
     ]
    }
   ],
   "source": [
    "src_data = list(df.loc[:, 'Q'].copy())\n",
    "tgt_data = list(df.loc[:, 'A'].copy())\n",
    "TOKEN_N_MAX = 40\n",
    "\n",
    "que_corpus , ans_corpus = build_corpus(src_data, tgt_data, mecab, TOKEN_N_MAX)"
   ]
  },
  {
   "cell_type": "markdown",
   "id": "ff05e1b9",
   "metadata": {},
   "source": [
    "### < error M >\n",
    "- 토큰 길이 조건 확인\n",
    "\n",
    "각 문장의 토큰 길이가 TOKEN_N_MAX 조건을 충족하는지 확인해보세요. 특정 문장이 이 조건을 만족하지 않으면 해당 문장은 src_corpus 또는 tgt_corpus에 추가되지 않을 수 있습니다. 이 경우에는 각 문장의 토큰 길이를 출력해보면 도움이 될 수 있습니다.\n",
    "\n",
    "- 디버깅 정보 추가\n",
    "\n",
    "어디에서 문제인지 더 명확히 이해하기 위해, src_corpus와 tgt_corpus의 내용을 출력해보는 것도 좋은 방법입니다. 다음과 같이 수정할 수 있습니다."
   ]
  },
  {
   "cell_type": "code",
   "execution_count": 55,
   "id": "9b5624a4",
   "metadata": {},
   "outputs": [
    {
     "ename": "AssertionError",
     "evalue": "error: 문장 개수 불일치!",
     "output_type": "error",
     "traceback": [
      "\u001b[0;31m---------------------------------------------------------------------------\u001b[0m",
      "\u001b[0;31mAssertionError\u001b[0m                            Traceback (most recent call last)",
      "\u001b[0;32m/tmp/ipykernel_38/217415655.py\u001b[0m in \u001b[0;36m<module>\u001b[0;34m\u001b[0m\n\u001b[1;32m      3\u001b[0m \u001b[0mTOKEN_N_MAX\u001b[0m \u001b[0;34m=\u001b[0m \u001b[0;36m20\u001b[0m\u001b[0;34m\u001b[0m\u001b[0;34m\u001b[0m\u001b[0m\n\u001b[1;32m      4\u001b[0m \u001b[0;34m\u001b[0m\u001b[0m\n\u001b[0;32m----> 5\u001b[0;31m \u001b[0mque_corpus\u001b[0m \u001b[0;34m,\u001b[0m \u001b[0mans_corpus\u001b[0m \u001b[0;34m=\u001b[0m \u001b[0mbuild_corpus\u001b[0m\u001b[0;34m(\u001b[0m\u001b[0msrc_data\u001b[0m\u001b[0;34m,\u001b[0m \u001b[0mtgt_data\u001b[0m\u001b[0;34m,\u001b[0m \u001b[0mmecab\u001b[0m\u001b[0;34m,\u001b[0m \u001b[0mTOKEN_N_MAX\u001b[0m\u001b[0;34m)\u001b[0m\u001b[0;34m\u001b[0m\u001b[0;34m\u001b[0m\u001b[0m\n\u001b[0m",
      "\u001b[0;32m/tmp/ipykernel_38/2161942505.py\u001b[0m in \u001b[0;36mbuild_corpus\u001b[0;34m(src_data, tgt_data, tokenizer, token_n_max)\u001b[0m\n\u001b[1;32m     24\u001b[0m \u001b[0;34m\u001b[0m\u001b[0m\n\u001b[1;32m     25\u001b[0m     \u001b[0;31m# 문장 개수 확인\u001b[0m\u001b[0;34m\u001b[0m\u001b[0;34m\u001b[0m\u001b[0m\n\u001b[0;32m---> 26\u001b[0;31m     \u001b[0;32massert\u001b[0m \u001b[0mlen\u001b[0m\u001b[0;34m(\u001b[0m\u001b[0msrc_corpus\u001b[0m\u001b[0;34m)\u001b[0m \u001b[0;34m==\u001b[0m \u001b[0mlen\u001b[0m\u001b[0;34m(\u001b[0m\u001b[0mtgt_corpus\u001b[0m\u001b[0;34m)\u001b[0m\u001b[0;34m,\u001b[0m \u001b[0;34m\"error: 문장 개수 불일치!\"\u001b[0m\u001b[0;34m\u001b[0m\u001b[0;34m\u001b[0m\u001b[0m\n\u001b[0m\u001b[1;32m     27\u001b[0m \u001b[0;34m\u001b[0m\u001b[0m\n\u001b[1;32m     28\u001b[0m     \u001b[0;32mreturn\u001b[0m \u001b[0msrc_corpus\u001b[0m\u001b[0;34m,\u001b[0m \u001b[0mtgt_corpus\u001b[0m\u001b[0;34m\u001b[0m\u001b[0;34m\u001b[0m\u001b[0m\n",
      "\u001b[0;31mAssertionError\u001b[0m: error: 문장 개수 불일치!"
     ]
    }
   ],
   "source": [
    "src_data = list(df.loc[:, 'Q'].copy())\n",
    "tgt_data = list(df.loc[:, 'A'].copy())\n",
    "TOKEN_N_MAX = 20\n",
    "\n",
    "que_corpus , ans_corpus = build_corpus(src_data, tgt_data, mecab, TOKEN_N_MAX)"
   ]
  },
  {
   "cell_type": "code",
   "execution_count": 58,
   "id": "58e5c71b",
   "metadata": {},
   "outputs": [],
   "source": [
    "def build_corpus(src_data, tgt_data, tokenizer, token_n_max):  \n",
    "    src_corpus, tgt_corpus = [], []\n",
    "    \n",
    "    for data, corpus in zip([src_data, tgt_data], [src_corpus, tgt_corpus]):\n",
    "        for s in data:\n",
    "            clean_s = preprocess_sentence(s)\n",
    "            tokenized_s = tokenizer.morphs(clean_s)\n",
    "\n",
    "            if len(tokenized_s) <= token_n_max:\n",
    "                corpus.append(tokenized_s)\n",
    "\n",
    "    # 중복 문장 제거\n",
    "    src_corpus = list(map(list, set(map(tuple, src_corpus))))\n",
    "    tgt_corpus = list(map(list, set(map(tuple, tgt_corpus))))\n",
    "    \n",
    "    # 문장 개수 확인 및 디버깅 정보 추가\n",
    "    print(f\"Source corpus length: {len(src_corpus)}\")\n",
    "    print(f\"Target corpus length: {len(tgt_corpus)}\")\n",
    "    \n",
    "    assert len(src_corpus) == len(tgt_corpus), \"error: 문장 개수 불일치!\"\n",
    "    \n",
    "    return src_corpus, tgt_corpus\n"
   ]
  },
  {
   "cell_type": "code",
   "execution_count": 59,
   "id": "17a4c714",
   "metadata": {},
   "outputs": [
    {
     "name": "stdout",
     "output_type": "stream",
     "text": [
      "Source corpus length: 9943\n",
      "Target corpus length: 5870\n"
     ]
    },
    {
     "ename": "AssertionError",
     "evalue": "error: 문장 개수 불일치!",
     "output_type": "error",
     "traceback": [
      "\u001b[0;31m---------------------------------------------------------------------------\u001b[0m",
      "\u001b[0;31mAssertionError\u001b[0m                            Traceback (most recent call last)",
      "\u001b[0;32m/tmp/ipykernel_38/3300075160.py\u001b[0m in \u001b[0;36m<module>\u001b[0;34m\u001b[0m\n\u001b[1;32m      3\u001b[0m \u001b[0mTOKEN_N_MAX\u001b[0m \u001b[0;34m=\u001b[0m \u001b[0;36m10\u001b[0m\u001b[0;34m\u001b[0m\u001b[0;34m\u001b[0m\u001b[0m\n\u001b[1;32m      4\u001b[0m \u001b[0;34m\u001b[0m\u001b[0m\n\u001b[0;32m----> 5\u001b[0;31m \u001b[0mque_corpus\u001b[0m \u001b[0;34m,\u001b[0m \u001b[0mans_corpus\u001b[0m \u001b[0;34m=\u001b[0m \u001b[0mbuild_corpus\u001b[0m\u001b[0;34m(\u001b[0m\u001b[0msrc_data\u001b[0m\u001b[0;34m,\u001b[0m \u001b[0mtgt_data\u001b[0m\u001b[0;34m,\u001b[0m \u001b[0mmecab\u001b[0m\u001b[0;34m,\u001b[0m \u001b[0mTOKEN_N_MAX\u001b[0m\u001b[0;34m)\u001b[0m\u001b[0;34m\u001b[0m\u001b[0;34m\u001b[0m\u001b[0m\n\u001b[0m",
      "\u001b[0;32m/tmp/ipykernel_38/330217568.py\u001b[0m in \u001b[0;36mbuild_corpus\u001b[0;34m(src_data, tgt_data, tokenizer, token_n_max)\u001b[0m\n\u001b[1;32m     18\u001b[0m     \u001b[0mprint\u001b[0m\u001b[0;34m(\u001b[0m\u001b[0;34mf\"Target corpus length: {len(tgt_corpus)}\"\u001b[0m\u001b[0;34m)\u001b[0m\u001b[0;34m\u001b[0m\u001b[0;34m\u001b[0m\u001b[0m\n\u001b[1;32m     19\u001b[0m \u001b[0;34m\u001b[0m\u001b[0m\n\u001b[0;32m---> 20\u001b[0;31m     \u001b[0;32massert\u001b[0m \u001b[0mlen\u001b[0m\u001b[0;34m(\u001b[0m\u001b[0msrc_corpus\u001b[0m\u001b[0;34m)\u001b[0m \u001b[0;34m==\u001b[0m \u001b[0mlen\u001b[0m\u001b[0;34m(\u001b[0m\u001b[0mtgt_corpus\u001b[0m\u001b[0;34m)\u001b[0m\u001b[0;34m,\u001b[0m \u001b[0;34m\"error: 문장 개수 불일치!\"\u001b[0m\u001b[0;34m\u001b[0m\u001b[0;34m\u001b[0m\u001b[0m\n\u001b[0m\u001b[1;32m     21\u001b[0m \u001b[0;34m\u001b[0m\u001b[0m\n\u001b[1;32m     22\u001b[0m     \u001b[0;32mreturn\u001b[0m \u001b[0msrc_corpus\u001b[0m\u001b[0;34m,\u001b[0m \u001b[0mtgt_corpus\u001b[0m\u001b[0;34m\u001b[0m\u001b[0;34m\u001b[0m\u001b[0m\n",
      "\u001b[0;31mAssertionError\u001b[0m: error: 문장 개수 불일치!"
     ]
    }
   ],
   "source": [
    "src_data = list(df.loc[:, 'Q'].copy())\n",
    "tgt_data = list(df.loc[:, 'A'].copy())\n",
    "TOKEN_N_MAX = 10\n",
    "\n",
    "que_corpus , ans_corpus = build_corpus(src_data, tgt_data, mecab, TOKEN_N_MAX)"
   ]
  },
  {
   "cell_type": "code",
   "execution_count": 70,
   "id": "9d0a666a",
   "metadata": {},
   "outputs": [],
   "source": [
    "def build_corpus(src_data, tgt_data, tokenizer, token_n_max):  # 1. input data : 소스 문장 데이터와 타겟 문장 데이터\n",
    "    \n",
    "    src_corpus, tgt_corpus = [], []\n",
    "    \n",
    "    for i in src_data :\n",
    "        s = i\n",
    "        clean_s = preprocess_sentence(s)  # 2. 정제 : preprocess_sentence()\n",
    "        tokenized_src = tokenizer.morphs(clean_s) # 3. 토큰화: 전달 받은 객체의 함수 사용 \n",
    "\n",
    "        if len(tokenized_src) <= token_n_max :   # 4. 토큰 개수가 일정 길이 이상 -> 제외\n",
    "            src_corpus.append(tokenized_src)\n",
    "            \n",
    "    for i in tgt_data :\n",
    "        s = i\n",
    "        clean_s = preprocess_sentence(s)\n",
    "        tokenized_tgt = tokenizer.morphs(clean_s)\n",
    "\n",
    "        if len(tokenized_tgt) <= token_n_max : \n",
    "            tgt_corpus.append(tokenized_tgt)\n",
    "\n",
    "    src_corpus = list(map(list, set(map(tuple, src_corpus))))  # 5. 중복 문장 제거 \n",
    "    tgt_corpus = list(map(list, set(map(tuple, tgt_corpus))))\n",
    "    \n",
    "    assert len(src_corpus) == len(tgt_corpus), \"error: 문장 개수 불일치!\" # debugging\n",
    "        \n",
    "    return src_corpus, tgt_corpus\n",
    "    "
   ]
  },
  {
   "cell_type": "code",
   "execution_count": 71,
   "id": "97e6faf0",
   "metadata": {},
   "outputs": [
    {
     "ename": "AssertionError",
     "evalue": "error: 문장 개수 불일치!",
     "output_type": "error",
     "traceback": [
      "\u001b[0;31m---------------------------------------------------------------------------\u001b[0m",
      "\u001b[0;31mAssertionError\u001b[0m                            Traceback (most recent call last)",
      "\u001b[0;32m/tmp/ipykernel_38/3418321183.py\u001b[0m in \u001b[0;36m<module>\u001b[0;34m\u001b[0m\n\u001b[1;32m      3\u001b[0m \u001b[0mTOKEN_N_MAX\u001b[0m \u001b[0;34m=\u001b[0m \u001b[0;36m100\u001b[0m\u001b[0;34m\u001b[0m\u001b[0;34m\u001b[0m\u001b[0m\n\u001b[1;32m      4\u001b[0m \u001b[0;34m\u001b[0m\u001b[0m\n\u001b[0;32m----> 5\u001b[0;31m \u001b[0mque_corpus\u001b[0m \u001b[0;34m,\u001b[0m \u001b[0mans_corpus\u001b[0m \u001b[0;34m=\u001b[0m \u001b[0mbuild_corpus\u001b[0m\u001b[0;34m(\u001b[0m\u001b[0msrc_data\u001b[0m\u001b[0;34m,\u001b[0m \u001b[0mtgt_data\u001b[0m\u001b[0;34m,\u001b[0m \u001b[0mmecab\u001b[0m\u001b[0;34m,\u001b[0m \u001b[0mTOKEN_N_MAX\u001b[0m\u001b[0;34m)\u001b[0m\u001b[0;34m\u001b[0m\u001b[0;34m\u001b[0m\u001b[0m\n\u001b[0m",
      "\u001b[0;32m/tmp/ipykernel_38/3648209036.py\u001b[0m in \u001b[0;36mbuild_corpus\u001b[0;34m(src_data, tgt_data, tokenizer, token_n_max)\u001b[0m\n\u001b[1;32m     22\u001b[0m     \u001b[0mtgt_corpus\u001b[0m \u001b[0;34m=\u001b[0m \u001b[0mlist\u001b[0m\u001b[0;34m(\u001b[0m\u001b[0mmap\u001b[0m\u001b[0;34m(\u001b[0m\u001b[0mlist\u001b[0m\u001b[0;34m,\u001b[0m \u001b[0mset\u001b[0m\u001b[0;34m(\u001b[0m\u001b[0mmap\u001b[0m\u001b[0;34m(\u001b[0m\u001b[0mtuple\u001b[0m\u001b[0;34m,\u001b[0m \u001b[0mtgt_corpus\u001b[0m\u001b[0;34m)\u001b[0m\u001b[0;34m)\u001b[0m\u001b[0;34m)\u001b[0m\u001b[0;34m)\u001b[0m\u001b[0;34m\u001b[0m\u001b[0;34m\u001b[0m\u001b[0m\n\u001b[1;32m     23\u001b[0m \u001b[0;34m\u001b[0m\u001b[0m\n\u001b[0;32m---> 24\u001b[0;31m     \u001b[0;32massert\u001b[0m \u001b[0mlen\u001b[0m\u001b[0;34m(\u001b[0m\u001b[0msrc_corpus\u001b[0m\u001b[0;34m)\u001b[0m \u001b[0;34m==\u001b[0m \u001b[0mlen\u001b[0m\u001b[0;34m(\u001b[0m\u001b[0mtgt_corpus\u001b[0m\u001b[0;34m)\u001b[0m\u001b[0;34m,\u001b[0m \u001b[0;34m\"error: 문장 개수 불일치!\"\u001b[0m \u001b[0;31m# debugging\u001b[0m\u001b[0;34m\u001b[0m\u001b[0;34m\u001b[0m\u001b[0m\n\u001b[0m\u001b[1;32m     25\u001b[0m \u001b[0;34m\u001b[0m\u001b[0m\n\u001b[1;32m     26\u001b[0m     \u001b[0;32mreturn\u001b[0m \u001b[0msrc_corpus\u001b[0m\u001b[0;34m,\u001b[0m \u001b[0mtgt_corpus\u001b[0m\u001b[0;34m\u001b[0m\u001b[0;34m\u001b[0m\u001b[0m\n",
      "\u001b[0;31mAssertionError\u001b[0m: error: 문장 개수 불일치!"
     ]
    }
   ],
   "source": [
    "src_data = list(df.loc[:, 'Q'].copy())\n",
    "tgt_data = list(df.loc[:, 'A'].copy())\n",
    "TOKEN_N_MAX = 100\n",
    "\n",
    "que_corpus , ans_corpus = build_corpus(src_data, tgt_data, mecab, TOKEN_N_MAX)"
   ]
  },
  {
   "attachments": {
    "image-2.png": {
     "image/png": "[encoded data removed]"
    },
    "image-3.png": {
     "image/png": "[encoded data removed]"
    },
    "image.png": {
     "image/png": "[encoded data removed]"
    }
   },
   "cell_type": "markdown",
   "id": "098e53d3",
   "metadata": {},
   "source": [
    "### ERROR 해결 과정 (1)\n",
    "\n",
    "- 계속 문장 개수가 불일치 함 \n",
    "- 그래서 중복 제거 후의 개수 차이를 살펴보니 아래와 같았음 \n",
    "- ![image-2.png](attachment:image-2.png)\n",
    "- ![image.png](attachment:image.png)\n",
    "- ![image-3.png](attachment:image-3.png)\n",
    "\n",
    "- 따라서, 소스 데이터의 중복 문장을 제거 후, 남아 있는 소스 문장 인덱스와 일치하는 타겟 문장을 가져오는 알고리즘 구성이 필요하다 판단하였음\n",
    "- index 정보를 유지하기 위해. 함수 인자 입력 시 list 가 아닌, df 그대로 받아올 수 있도록 수정함 "
   ]
  },
  {
   "cell_type": "code",
   "execution_count": 13,
   "id": "5c44a07d",
   "metadata": {},
   "outputs": [],
   "source": [
    "def build_corpus(src_data, tgt_data, tokenizer, token_n_max):  \n",
    "    # 소스와 타겟 문장 데이터 처리\n",
    "    src_corpus, tgt_corpus = [], []\n",
    "    \n",
    "    for data, corpus in zip([src_data, tgt_data], [src_corpus, tgt_corpus]):\n",
    "        for s in data.values.flatten():  # DataFrame의 값을 1D 배열로 변환 -> 각 열의 값을 순회함 \n",
    "            clean_s = preprocess_sentence(s)  # 문장 정제\n",
    "            tokenized_s = tokenizer.morphs(clean_s)  # 토큰화\n",
    "            \n",
    "            # 토큰 개수가 일정 길이 이하인 경우에만 추가\n",
    "            if len(tokenized_s) <= token_n_max:\n",
    "                corpus.append(tokenized_s)\n",
    "    \n",
    "    # 중복 문장 제거: src_data에서 Q 열의 중복값을 제거하고 남은 인덱스 추출\n",
    "    unique_src = src_data.drop_duplicates(subset='Q')\n",
    "    remaining_indices = unique_src.index\n",
    "\n",
    "    # 남은 인덱스를 기준으로 tgt_data에서 A 열 데이터 선택\n",
    "    tgt_corpus = tgt_data.loc[remaining_indices].values.flatten().tolist()\n",
    "\n",
    "    # 중복 문장 제거: src_corpus를 리스트로 변환\n",
    "    src_corpus = [list(tokens) for tokens in src_corpus if len(tokens) > 0]  # 빈 리스트 제거\n",
    "    \n",
    "    print(len(src_corpus))\n",
    "    print(len(tgt_corpus))\n",
    "    \n",
    "    \n",
    "    \n",
    "    # 문장 개수 확인\n",
    "    assert len(src_corpus) == len(tgt_corpus), \"error: 문장 개수 불일치!\"\n",
    "    \n",
    "    return src_corpus, tgt_corpus\n"
   ]
  },
  {
   "cell_type": "code",
   "execution_count": 14,
   "id": "3c99b8b4",
   "metadata": {},
   "outputs": [
    {
     "data": {
      "text/plain": [
       "(                         Q\n",
       " 0                   12시 땡!\n",
       " 1              1지망 학교 떨어졌어\n",
       " 2             3박4일 놀러가고 싶다\n",
       " 3          3박4일 정도 놀러가고 싶다\n",
       " 4                  PPL 심하네\n",
       " 5                SD카드 망가졌어\n",
       " 6                  SD카드 안돼\n",
       " 7           SNS 맞팔 왜 안하지ㅠㅠ\n",
       " 8  SNS 시간낭비인 거 아는데 매일 하는 중\n",
       " 9        SNS 시간낭비인데 자꾸 보게됨,\n",
       "                     A\n",
       " 0          하루가 또 가네요.\n",
       " 1           위로해 드립니다.\n",
       " 2         여행은 언제나 좋죠.\n",
       " 3         여행은 언제나 좋죠.\n",
       " 4          눈살이 찌푸려지죠.\n",
       " 5  다시 새로 사는 게 마음 편해요.\n",
       " 6  다시 새로 사는 게 마음 편해요.\n",
       " 7    잘 모르고 있을 수도 있어요.\n",
       " 8       시간을 정하고 해보세요.\n",
       " 9       시간을 정하고 해보세요.)"
      ]
     },
     "execution_count": 14,
     "metadata": {},
     "output_type": "execute_result"
    }
   ],
   "source": [
    "src_data = df[['Q']].copy()\n",
    "tgt_data = df[['A']].copy()\n",
    "\n",
    "src_data.head(10), tgt_data.head(10)"
   ]
  },
  {
   "cell_type": "code",
   "execution_count": 98,
   "id": "20db63b5",
   "metadata": {},
   "outputs": [
    {
     "name": "stdout",
     "output_type": "stream",
     "text": [
      "11823\n",
      "11662\n"
     ]
    },
    {
     "ename": "AssertionError",
     "evalue": "error: 문장 개수 불일치!",
     "output_type": "error",
     "traceback": [
      "\u001b[0;31m---------------------------------------------------------------------------\u001b[0m",
      "\u001b[0;31mAssertionError\u001b[0m                            Traceback (most recent call last)",
      "\u001b[0;32m/tmp/ipykernel_38/970790723.py\u001b[0m in \u001b[0;36m<module>\u001b[0;34m\u001b[0m\n\u001b[1;32m      1\u001b[0m \u001b[0mTOKEN_N_MAX\u001b[0m \u001b[0;34m=\u001b[0m \u001b[0;36m100\u001b[0m\u001b[0;34m\u001b[0m\u001b[0;34m\u001b[0m\u001b[0m\n\u001b[1;32m      2\u001b[0m \u001b[0;34m\u001b[0m\u001b[0m\n\u001b[0;32m----> 3\u001b[0;31m \u001b[0mque_corpus\u001b[0m \u001b[0;34m,\u001b[0m \u001b[0mans_corpus\u001b[0m \u001b[0;34m=\u001b[0m \u001b[0mbuild_corpus\u001b[0m\u001b[0;34m(\u001b[0m\u001b[0msrc_data\u001b[0m\u001b[0;34m,\u001b[0m \u001b[0mtgt_data\u001b[0m\u001b[0;34m,\u001b[0m \u001b[0mmecab\u001b[0m\u001b[0;34m,\u001b[0m \u001b[0mTOKEN_N_MAX\u001b[0m\u001b[0;34m)\u001b[0m\u001b[0;34m\u001b[0m\u001b[0;34m\u001b[0m\u001b[0m\n\u001b[0m",
      "\u001b[0;32m/tmp/ipykernel_38/2452503281.py\u001b[0m in \u001b[0;36mbuild_corpus\u001b[0;34m(src_data, tgt_data, tokenizer, token_n_max)\u001b[0m\n\u001b[1;32m     28\u001b[0m \u001b[0;34m\u001b[0m\u001b[0m\n\u001b[1;32m     29\u001b[0m     \u001b[0;31m# 문장 개수 확인\u001b[0m\u001b[0;34m\u001b[0m\u001b[0;34m\u001b[0m\u001b[0m\n\u001b[0;32m---> 30\u001b[0;31m     \u001b[0;32massert\u001b[0m \u001b[0mlen\u001b[0m\u001b[0;34m(\u001b[0m\u001b[0msrc_corpus\u001b[0m\u001b[0;34m)\u001b[0m \u001b[0;34m==\u001b[0m \u001b[0mlen\u001b[0m\u001b[0;34m(\u001b[0m\u001b[0mtgt_corpus\u001b[0m\u001b[0;34m)\u001b[0m\u001b[0;34m,\u001b[0m \u001b[0;34m\"error: 문장 개수 불일치!\"\u001b[0m\u001b[0;34m\u001b[0m\u001b[0;34m\u001b[0m\u001b[0m\n\u001b[0m\u001b[1;32m     31\u001b[0m \u001b[0;34m\u001b[0m\u001b[0m\n\u001b[1;32m     32\u001b[0m     \u001b[0;32mreturn\u001b[0m \u001b[0msrc_corpus\u001b[0m\u001b[0;34m,\u001b[0m \u001b[0mtgt_corpus\u001b[0m\u001b[0;34m\u001b[0m\u001b[0;34m\u001b[0m\u001b[0m\n",
      "\u001b[0;31mAssertionError\u001b[0m: error: 문장 개수 불일치!"
     ]
    }
   ],
   "source": [
    "TOKEN_N_MAX = 100\n",
    "\n",
    "que_corpus , ans_corpus = build_corpus(src_data, tgt_data, mecab, TOKEN_N_MAX)"
   ]
  },
  {
   "attachments": {
    "image-2.png": {
     "image/png": "[encoded data removed]"
    },
    "image.png": {
     "image/png": "[encoded data removed]"
    }
   },
   "cell_type": "markdown",
   "id": "6746d4e7",
   "metadata": {},
   "source": [
    "### ERROR 해결과정 (2) - 문장 개수 불일치 에러 해결 \n",
    "\n",
    "- **GPT 선생님, 오늘도 감사합니다...**\n",
    "\n",
    "    - ![image.png](attachment:image.png)\n",
    "\n",
    "- **수정된 로직은 다음과 같다.**\n",
    "\n",
    "    - ![image-2.png](attachment:image-2.png)"
   ]
  },
  {
   "cell_type": "code",
   "execution_count": 10,
   "id": "ddb34876",
   "metadata": {},
   "outputs": [],
   "source": [
    "def build_corpus(src_data, tgt_data, tokenizer, token_n_max):  \n",
    "    # 소스와 타겟 문장 데이터 처리\n",
    "    src_corpus, tgt_corpus = [], []\n",
    "    \n",
    "    # 소스와 타겟 데이터를 함께 순회하며 처리\n",
    "    for index in range(len(src_data)):\n",
    "        src_sentence = src_data.iloc[index, 0]  # Q 열 데이터\n",
    "        tgt_sentence = tgt_data.iloc[index, 0]  # A 열 데이터\n",
    "\n",
    "        clean_src = preprocess_sentence(src_sentence)  # 소스 문장 정제\n",
    "        tokenized_src = tokenizer.morphs(clean_src)  # 소스 문장 토큰화\n",
    "\n",
    "        clean_tgt = preprocess_sentence(tgt_sentence)  # 타겟 문장 정제\n",
    "        tokenized_tgt = tokenizer.morphs(clean_tgt)  # 타겟 문장 토큰화\n",
    "        \n",
    "        # 토큰 개수가 일정 길이 이하인 경우에만 추가\n",
    "        if len(tokenized_src) <= token_n_max and len(tokenized_tgt) <= token_n_max:\n",
    "            src_corpus.append(tokenized_src)\n",
    "            tgt_corpus.append(tokenized_tgt)\n",
    "    \n",
    "    # 중복 문장 제거: src_corpus에서 중복을 제거한 인덱스 추출\n",
    "    unique_src, unique_indices = [], []\n",
    "    seen = set()\n",
    "    \n",
    "    for idx, tokens in enumerate(src_corpus):\n",
    "        token_tuple = tuple(tokens)  # 리스트를 해시 가능한 튜플로 변환\n",
    "        if token_tuple not in seen:\n",
    "            seen.add(token_tuple)\n",
    "            unique_src.append(tokens)\n",
    "            unique_indices.append(idx)\n",
    "\n",
    "    # 남은 인덱스를 기준으로 tgt_corpus 필터링\n",
    "    tgt_corpus = [tgt_corpus[i] for i in unique_indices]\n",
    "\n",
    "    print(len(unique_src))  # src_corpus의 길이 출력\n",
    "    print(len(tgt_corpus))  # tgt_corpus의 길이 출력\n",
    "    \n",
    "    # 문장 개수 확인\n",
    "    assert len(unique_src) == len(tgt_corpus), \"error: 문장 개수 불일치!\"\n",
    "    \n",
    "    return unique_src, tgt_corpus\n"
   ]
  },
  {
   "cell_type": "markdown",
   "id": "8dc28155",
   "metadata": {},
   "source": [
    "### 에러 (문장 개수 불일치) 해결 !"
   ]
  },
  {
   "cell_type": "code",
   "execution_count": 11,
   "id": "27a7ecc4",
   "metadata": {},
   "outputs": [
    {
     "name": "stdout",
     "output_type": "stream",
     "text": [
      "11632\n",
      "11632\n"
     ]
    }
   ],
   "source": [
    "src_data = df[['Q']].copy()\n",
    "tgt_data = df[['A']].copy()\n",
    "\n",
    "TOKEN_N_MAX = 100\n",
    "\n",
    "# 구현한 함수로 각각 que_corpus , ans_corpus 에 토큰화하여 저장\n",
    "que_corpus , ans_corpus = build_corpus(src_data, tgt_data, mecab, TOKEN_N_MAX)"
   ]
  },
  {
   "cell_type": "code",
   "execution_count": 12,
   "id": "b3665b14",
   "metadata": {},
   "outputs": [
    {
     "name": "stdout",
     "output_type": "stream",
     "text": [
      "Q : ['거지', '됐', '어']\n",
      "A :['밥', '사', '줄', '친구', '를', '찾아보', '세요']\n",
      "\n",
      "Q : ['거짓말', '했', '어']\n",
      "A :['선의', '의', '거짓말', '이', '길', '바라', '요', '.']\n",
      "\n",
      "Q : ['거짓말', '을', '나', '도', '모르', '게', '자꾸', '해']\n",
      "A :['거짓말', '은', '할수록', '늘', '어요', '.']\n",
      "\n",
      "Q : ['거짓말', '을', '하', '게', '돼']\n",
      "A :['거짓말', '은', '할수록', '늘', '어요', '.']\n",
      "\n",
      "Q : ['거짓말', '이', '거짓말', '을', '낳', '아']\n",
      "A :['진실', '된', '말', '을', '하', '려고', '노력', '해', '보', '세요', '.']\n",
      "\n",
      "Q : ['걱정', '없이', '살', '고파']\n",
      "A :['누구', '나', '걱정', '은', '있', '어요', '.']\n",
      "\n",
      "Q : ['걱정', '좀', '없이', '살', '고', '싶', '다', '.']\n",
      "A :['누구', '나', '걱정', '은', '있', '어요', '.']\n",
      "\n",
      "Q : ['건강', '관리']\n",
      "A :['운동', '을', '해', '보', '세요', '.']\n",
      "\n",
      "Q : ['건강', '빨리', '회복', '해야지']\n",
      "A :['세상', '의', '무엇', '보다', '건강', '이', '제일', '중요', '해요', '.']\n",
      "\n",
      "Q : ['건강', '검진', '왔', '어']\n",
      "A :['주기', '적', '으로', '해', '주', '는', '게', '좋', '죠', '.']\n",
      "\n"
     ]
    }
   ],
   "source": [
    "# sample print\n",
    "for q, a in list(zip(que_corpus,ans_corpus))[100:110] :\n",
    "    print(f'Q : {q}\\nA :{a}\\n')"
   ]
  },
  {
   "cell_type": "markdown",
   "id": "afe2fd39",
   "metadata": {},
   "source": [
    "# 4. Augmentation"
   ]
  },
  {
   "cell_type": "markdown",
   "id": "81bd6b63",
   "metadata": {},
   "source": [
    "###  한국어로 사전 훈련된 Embedding 모델을 다운로드"
   ]
  },
  {
   "cell_type": "code",
   "execution_count": 13,
   "id": "385abbd7",
   "metadata": {},
   "outputs": [],
   "source": [
    "import zipfile\n",
    "import os\n",
    "import numpy as np\n",
    "\n",
    "def unzip_and_read_bin(zip_file_path, output_dir):\n",
    "    # 1. zip 파일 해제\n",
    "    with zipfile.ZipFile(zip_file_path, 'r') as zip_ref:\n",
    "        zip_ref.extractall(output_dir)\n",
    "\n",
    "    # 2. 해제된 파일 중 .bin 파일 찾기\n",
    "    bin_files = [f for f in os.listdir(output_dir) if f.endswith('.bin')]\n",
    "\n",
    "    # 3. .bin 파일 읽기\n",
    "    for bin_file in bin_files:\n",
    "        bin_file_path = os.path.join(output_dir, bin_file)\n",
    "        data = np.fromfile(bin_file_path, dtype=np.float32)  # dtype은 필요에 따라 변경\n",
    "        \n",
    "        # 4. 데이터 확인 (예: 첫 10개 데이터 출력)\n",
    "        print(f\"Data from {bin_file}: {data[:10]}\")\n",
    "        \n",
    "    return data, bin_file_path"
   ]
  },
  {
   "cell_type": "code",
   "execution_count": 14,
   "id": "a7162e09",
   "metadata": {},
   "outputs": [
    {
     "name": "stdout",
     "output_type": "stream",
     "text": [
      "Data from ko.bin: [1.0720233e+24 1.8393144e+25 7.3404073e+28 1.8729225e+31 4.7431038e+30\n",
      " 7.2664481e+22 6.6551834e+28 4.9036120e+13 6.8526547e+29 1.2791404e+30]\n"
     ]
    }
   ],
   "source": [
    "# 사용 예제\n",
    "zip_file_path = '/aiffel/aiffel/AIFFEL_quest_rs/GoingDeeper/Deep06/ko.zip'  # 여기에 zip 파일 경로를 입력하세요.\n",
    "output_dir = data_dir_path   # 해제된 파일을 저장할 디렉토리 경로\n",
    "\n",
    "# 임베딩 모델 불러오기 \n",
    "ko_bin, model_path = unzip_and_read_bin(zip_file_path, output_dir)"
   ]
  },
  {
   "cell_type": "markdown",
   "id": "43d6e8a2",
   "metadata": {},
   "source": [
    "### 모델 로드 에러 (1)\n",
    "- UnicodeDecodeError: 'utf-8' codec can't decode byte 0x80 in position 0: invalid start byte"
   ]
  },
  {
   "cell_type": "code",
   "execution_count": 15,
   "id": "cbdf8cd3",
   "metadata": {},
   "outputs": [
    {
     "ename": "UnicodeDecodeError",
     "evalue": "'utf-8' codec can't decode byte 0x80 in position 0: invalid start byte",
     "output_type": "error",
     "traceback": [
      "\u001b[0;31m---------------------------------------------------------------------------\u001b[0m",
      "\u001b[0;31mUnicodeDecodeError\u001b[0m                        Traceback (most recent call last)",
      "\u001b[0;32m/tmp/ipykernel_126/863730158.py\u001b[0m in \u001b[0;36m<module>\u001b[0;34m\u001b[0m\n\u001b[1;32m      5\u001b[0m \u001b[0;34m\u001b[0m\u001b[0m\n\u001b[1;32m      6\u001b[0m \u001b[0;31m# 모델 로드\u001b[0m\u001b[0;34m\u001b[0m\u001b[0;34m\u001b[0m\u001b[0m\n\u001b[0;32m----> 7\u001b[0;31m \u001b[0mwv\u001b[0m \u001b[0;34m=\u001b[0m \u001b[0mKeyedVectors\u001b[0m\u001b[0;34m.\u001b[0m\u001b[0mload_word2vec_format\u001b[0m\u001b[0;34m(\u001b[0m\u001b[0mmodel_path\u001b[0m\u001b[0;34m,\u001b[0m \u001b[0mbinary\u001b[0m\u001b[0;34m=\u001b[0m\u001b[0;32mTrue\u001b[0m\u001b[0;34m)\u001b[0m\u001b[0;34m\u001b[0m\u001b[0;34m\u001b[0m\u001b[0m\n\u001b[0m\u001b[1;32m      8\u001b[0m \u001b[0;34m\u001b[0m\u001b[0m\n\u001b[1;32m      9\u001b[0m \u001b[0;31m# 모델 사용 예시\u001b[0m\u001b[0;34m\u001b[0m\u001b[0;34m\u001b[0m\u001b[0m\n",
      "\u001b[0;32m/opt/conda/lib/python3.9/site-packages/gensim/models/keyedvectors.py\u001b[0m in \u001b[0;36mload_word2vec_format\u001b[0;34m(cls, fname, fvocab, binary, encoding, unicode_errors, limit, datatype)\u001b[0m\n\u001b[1;32m   1545\u001b[0m         \"\"\"\n\u001b[1;32m   1546\u001b[0m         \u001b[0;31m# from gensim.models.word2vec import load_word2vec_format\u001b[0m\u001b[0;34m\u001b[0m\u001b[0;34m\u001b[0m\u001b[0m\n\u001b[0;32m-> 1547\u001b[0;31m         return _load_word2vec_format(\n\u001b[0m\u001b[1;32m   1548\u001b[0m             \u001b[0mcls\u001b[0m\u001b[0;34m,\u001b[0m \u001b[0mfname\u001b[0m\u001b[0;34m,\u001b[0m \u001b[0mfvocab\u001b[0m\u001b[0;34m=\u001b[0m\u001b[0mfvocab\u001b[0m\u001b[0;34m,\u001b[0m \u001b[0mbinary\u001b[0m\u001b[0;34m=\u001b[0m\u001b[0mbinary\u001b[0m\u001b[0;34m,\u001b[0m \u001b[0mencoding\u001b[0m\u001b[0;34m=\u001b[0m\u001b[0mencoding\u001b[0m\u001b[0;34m,\u001b[0m \u001b[0municode_errors\u001b[0m\u001b[0;34m=\u001b[0m\u001b[0municode_errors\u001b[0m\u001b[0;34m,\u001b[0m\u001b[0;34m\u001b[0m\u001b[0;34m\u001b[0m\u001b[0m\n\u001b[1;32m   1549\u001b[0m             limit=limit, datatype=datatype)\n",
      "\u001b[0;32m/opt/conda/lib/python3.9/site-packages/gensim/models/utils_any2vec.py\u001b[0m in \u001b[0;36m_load_word2vec_format\u001b[0;34m(cls, fname, fvocab, binary, encoding, unicode_errors, limit, datatype, binary_chunk_size)\u001b[0m\n\u001b[1;32m    274\u001b[0m     \u001b[0mlogger\u001b[0m\u001b[0;34m.\u001b[0m\u001b[0minfo\u001b[0m\u001b[0;34m(\u001b[0m\u001b[0;34m\"loading projection weights from %s\"\u001b[0m\u001b[0;34m,\u001b[0m \u001b[0mfname\u001b[0m\u001b[0;34m)\u001b[0m\u001b[0;34m\u001b[0m\u001b[0;34m\u001b[0m\u001b[0m\n\u001b[1;32m    275\u001b[0m     \u001b[0;32mwith\u001b[0m \u001b[0mutils\u001b[0m\u001b[0;34m.\u001b[0m\u001b[0mopen\u001b[0m\u001b[0;34m(\u001b[0m\u001b[0mfname\u001b[0m\u001b[0;34m,\u001b[0m \u001b[0;34m'rb'\u001b[0m\u001b[0;34m)\u001b[0m \u001b[0;32mas\u001b[0m \u001b[0mfin\u001b[0m\u001b[0;34m:\u001b[0m\u001b[0;34m\u001b[0m\u001b[0;34m\u001b[0m\u001b[0m\n\u001b[0;32m--> 276\u001b[0;31m         \u001b[0mheader\u001b[0m \u001b[0;34m=\u001b[0m \u001b[0mutils\u001b[0m\u001b[0;34m.\u001b[0m\u001b[0mto_unicode\u001b[0m\u001b[0;34m(\u001b[0m\u001b[0mfin\u001b[0m\u001b[0;34m.\u001b[0m\u001b[0mreadline\u001b[0m\u001b[0;34m(\u001b[0m\u001b[0;34m)\u001b[0m\u001b[0;34m,\u001b[0m \u001b[0mencoding\u001b[0m\u001b[0;34m=\u001b[0m\u001b[0mencoding\u001b[0m\u001b[0;34m)\u001b[0m\u001b[0;34m\u001b[0m\u001b[0;34m\u001b[0m\u001b[0m\n\u001b[0m\u001b[1;32m    277\u001b[0m         \u001b[0mvocab_size\u001b[0m\u001b[0;34m,\u001b[0m \u001b[0mvector_size\u001b[0m \u001b[0;34m=\u001b[0m \u001b[0;34m(\u001b[0m\u001b[0mint\u001b[0m\u001b[0;34m(\u001b[0m\u001b[0mx\u001b[0m\u001b[0;34m)\u001b[0m \u001b[0;32mfor\u001b[0m \u001b[0mx\u001b[0m \u001b[0;32min\u001b[0m \u001b[0mheader\u001b[0m\u001b[0;34m.\u001b[0m\u001b[0msplit\u001b[0m\u001b[0;34m(\u001b[0m\u001b[0;34m)\u001b[0m\u001b[0;34m)\u001b[0m  \u001b[0;31m# throws for invalid file format\u001b[0m\u001b[0;34m\u001b[0m\u001b[0;34m\u001b[0m\u001b[0m\n\u001b[1;32m    278\u001b[0m         \u001b[0;32mif\u001b[0m \u001b[0mlimit\u001b[0m\u001b[0;34m:\u001b[0m\u001b[0;34m\u001b[0m\u001b[0;34m\u001b[0m\u001b[0m\n",
      "\u001b[0;32m/opt/conda/lib/python3.9/site-packages/gensim/utils.py\u001b[0m in \u001b[0;36many2unicode\u001b[0;34m(text, encoding, errors)\u001b[0m\n\u001b[1;32m    366\u001b[0m     \u001b[0;32mif\u001b[0m \u001b[0misinstance\u001b[0m\u001b[0;34m(\u001b[0m\u001b[0mtext\u001b[0m\u001b[0;34m,\u001b[0m \u001b[0municode\u001b[0m\u001b[0;34m)\u001b[0m\u001b[0;34m:\u001b[0m\u001b[0;34m\u001b[0m\u001b[0;34m\u001b[0m\u001b[0m\n\u001b[1;32m    367\u001b[0m         \u001b[0;32mreturn\u001b[0m \u001b[0mtext\u001b[0m\u001b[0;34m\u001b[0m\u001b[0;34m\u001b[0m\u001b[0m\n\u001b[0;32m--> 368\u001b[0;31m     \u001b[0;32mreturn\u001b[0m \u001b[0municode\u001b[0m\u001b[0;34m(\u001b[0m\u001b[0mtext\u001b[0m\u001b[0;34m,\u001b[0m \u001b[0mencoding\u001b[0m\u001b[0;34m,\u001b[0m \u001b[0merrors\u001b[0m\u001b[0;34m=\u001b[0m\u001b[0merrors\u001b[0m\u001b[0;34m)\u001b[0m\u001b[0;34m\u001b[0m\u001b[0;34m\u001b[0m\u001b[0m\n\u001b[0m\u001b[1;32m    369\u001b[0m \u001b[0;34m\u001b[0m\u001b[0m\n\u001b[1;32m    370\u001b[0m \u001b[0;34m\u001b[0m\u001b[0m\n",
      "\u001b[0;31mUnicodeDecodeError\u001b[0m: 'utf-8' codec can't decode byte 0x80 in position 0: invalid start byte"
     ]
    }
   ],
   "source": [
    "from gensim.models import KeyedVectors\n",
    "\n",
    "# # ko.bin 경로 설정\n",
    "# model_path = 'path/to/ko.bin'  # 실제 경로로 변경하세요\n",
    "\n",
    "# 모델 로드\n",
    "wv = KeyedVectors.load_word2vec_format(model_path, binary=True)\n",
    "\n",
    "# 모델 사용 예시\n",
    "print(wv.most_similar('안녕하세요'))  # '안녕하세요'와 유사한 단어 출력\n"
   ]
  },
  {
   "cell_type": "markdown",
   "id": "6e0ed28f",
   "metadata": {},
   "source": [
    "제공해 주신 출력은 ko.bin 파일이 Word2Vec 형식으로 저장된 피클 데이터임을 나타냅니다. 이는 Gensim의 KeyedVectors로 로드할 때 사용되는 형식입니다. 그러나 로드하는 과정에서 UnicodeDecodeError가 발생하는 이유는 Word2Vec 모델 파일이 특정 인코딩으로 저장되어 있으며, Gensim이 이를 올바르게 해석하지 못하기 때문입니다.\n",
    "\n",
    "- 해결 방법\n",
    "Gensim의 KeyedVectors 사용: KeyedVectors.load_word2vec_format() 메서드를 사용할 때, 인코딩을 명시적으로 설정하여 로드해 보세요. 특히 encoding 인자를 설정해주어야 합니다. "
   ]
  },
  {
   "cell_type": "markdown",
   "id": "ec66dab9",
   "metadata": {},
   "source": [
    "### 모델 로드 에러 (2)\n",
    "- ValueError: invalid literal for int() with base 10: '\\x80\\x02cgensim.models.word2vec'"
   ]
  },
  {
   "cell_type": "code",
   "execution_count": 38,
   "id": "c6177f46",
   "metadata": {
    "scrolled": true
   },
   "outputs": [
    {
     "ename": "ValueError",
     "evalue": "invalid literal for int() with base 10: '\\x80\\x02cgensim.models.word2vec'",
     "output_type": "error",
     "traceback": [
      "\u001b[0;31m---------------------------------------------------------------------------\u001b[0m",
      "\u001b[0;31mValueError\u001b[0m                                Traceback (most recent call last)",
      "\u001b[0;32m/tmp/ipykernel_32/1889243660.py\u001b[0m in \u001b[0;36m<module>\u001b[0;34m\u001b[0m\n\u001b[1;32m      2\u001b[0m \u001b[0;34m\u001b[0m\u001b[0m\n\u001b[1;32m      3\u001b[0m \u001b[0;31m# 모델 로드 (encoding='latin1' 또는 'utf-8' 사용)\u001b[0m\u001b[0;34m\u001b[0m\u001b[0;34m\u001b[0m\u001b[0m\n\u001b[0;32m----> 4\u001b[0;31m \u001b[0mwv\u001b[0m \u001b[0;34m=\u001b[0m \u001b[0mKeyedVectors\u001b[0m\u001b[0;34m.\u001b[0m\u001b[0mload_word2vec_format\u001b[0m\u001b[0;34m(\u001b[0m\u001b[0mmodel_path\u001b[0m\u001b[0;34m,\u001b[0m \u001b[0mbinary\u001b[0m\u001b[0;34m=\u001b[0m\u001b[0;32mTrue\u001b[0m\u001b[0;34m,\u001b[0m \u001b[0mencoding\u001b[0m\u001b[0;34m=\u001b[0m\u001b[0;34m'latin1'\u001b[0m\u001b[0;34m)\u001b[0m\u001b[0;34m\u001b[0m\u001b[0;34m\u001b[0m\u001b[0m\n\u001b[0m\u001b[1;32m      5\u001b[0m \u001b[0;34m\u001b[0m\u001b[0m\n\u001b[1;32m      6\u001b[0m \u001b[0;31m# 모델 사용 예시\u001b[0m\u001b[0;34m\u001b[0m\u001b[0;34m\u001b[0m\u001b[0m\n",
      "\u001b[0;32m/opt/conda/lib/python3.9/site-packages/gensim/models/keyedvectors.py\u001b[0m in \u001b[0;36mload_word2vec_format\u001b[0;34m(cls, fname, fvocab, binary, encoding, unicode_errors, limit, datatype, no_header)\u001b[0m\n\u001b[1;32m   1627\u001b[0m \u001b[0;34m\u001b[0m\u001b[0m\n\u001b[1;32m   1628\u001b[0m         \"\"\"\n\u001b[0;32m-> 1629\u001b[0;31m         return _load_word2vec_format(\n\u001b[0m\u001b[1;32m   1630\u001b[0m             \u001b[0mcls\u001b[0m\u001b[0;34m,\u001b[0m \u001b[0mfname\u001b[0m\u001b[0;34m,\u001b[0m \u001b[0mfvocab\u001b[0m\u001b[0;34m=\u001b[0m\u001b[0mfvocab\u001b[0m\u001b[0;34m,\u001b[0m \u001b[0mbinary\u001b[0m\u001b[0;34m=\u001b[0m\u001b[0mbinary\u001b[0m\u001b[0;34m,\u001b[0m \u001b[0mencoding\u001b[0m\u001b[0;34m=\u001b[0m\u001b[0mencoding\u001b[0m\u001b[0;34m,\u001b[0m \u001b[0municode_errors\u001b[0m\u001b[0;34m=\u001b[0m\u001b[0municode_errors\u001b[0m\u001b[0;34m,\u001b[0m\u001b[0;34m\u001b[0m\u001b[0;34m\u001b[0m\u001b[0m\n\u001b[1;32m   1631\u001b[0m             \u001b[0mlimit\u001b[0m\u001b[0;34m=\u001b[0m\u001b[0mlimit\u001b[0m\u001b[0;34m,\u001b[0m \u001b[0mdatatype\u001b[0m\u001b[0;34m=\u001b[0m\u001b[0mdatatype\u001b[0m\u001b[0;34m,\u001b[0m \u001b[0mno_header\u001b[0m\u001b[0;34m=\u001b[0m\u001b[0mno_header\u001b[0m\u001b[0;34m,\u001b[0m\u001b[0;34m\u001b[0m\u001b[0;34m\u001b[0m\u001b[0m\n",
      "\u001b[0;32m/opt/conda/lib/python3.9/site-packages/gensim/models/keyedvectors.py\u001b[0m in \u001b[0;36m_load_word2vec_format\u001b[0;34m(cls, fname, fvocab, binary, encoding, unicode_errors, limit, datatype, no_header, binary_chunk_size)\u001b[0m\n\u001b[1;32m   1964\u001b[0m         \u001b[0;32melse\u001b[0m\u001b[0;34m:\u001b[0m\u001b[0;34m\u001b[0m\u001b[0;34m\u001b[0m\u001b[0m\n\u001b[1;32m   1965\u001b[0m             \u001b[0mheader\u001b[0m \u001b[0;34m=\u001b[0m \u001b[0mutils\u001b[0m\u001b[0;34m.\u001b[0m\u001b[0mto_unicode\u001b[0m\u001b[0;34m(\u001b[0m\u001b[0mfin\u001b[0m\u001b[0;34m.\u001b[0m\u001b[0mreadline\u001b[0m\u001b[0;34m(\u001b[0m\u001b[0;34m)\u001b[0m\u001b[0;34m,\u001b[0m \u001b[0mencoding\u001b[0m\u001b[0;34m=\u001b[0m\u001b[0mencoding\u001b[0m\u001b[0;34m)\u001b[0m\u001b[0;34m\u001b[0m\u001b[0;34m\u001b[0m\u001b[0m\n\u001b[0;32m-> 1966\u001b[0;31m             \u001b[0mvocab_size\u001b[0m\u001b[0;34m,\u001b[0m \u001b[0mvector_size\u001b[0m \u001b[0;34m=\u001b[0m \u001b[0;34m[\u001b[0m\u001b[0mint\u001b[0m\u001b[0;34m(\u001b[0m\u001b[0mx\u001b[0m\u001b[0;34m)\u001b[0m \u001b[0;32mfor\u001b[0m \u001b[0mx\u001b[0m \u001b[0;32min\u001b[0m \u001b[0mheader\u001b[0m\u001b[0;34m.\u001b[0m\u001b[0msplit\u001b[0m\u001b[0;34m(\u001b[0m\u001b[0;34m)\u001b[0m\u001b[0;34m]\u001b[0m  \u001b[0;31m# throws for invalid file format\u001b[0m\u001b[0;34m\u001b[0m\u001b[0;34m\u001b[0m\u001b[0m\n\u001b[0m\u001b[1;32m   1967\u001b[0m         \u001b[0;32mif\u001b[0m \u001b[0mlimit\u001b[0m\u001b[0;34m:\u001b[0m\u001b[0;34m\u001b[0m\u001b[0;34m\u001b[0m\u001b[0m\n\u001b[1;32m   1968\u001b[0m             \u001b[0mvocab_size\u001b[0m \u001b[0;34m=\u001b[0m \u001b[0mmin\u001b[0m\u001b[0;34m(\u001b[0m\u001b[0mvocab_size\u001b[0m\u001b[0;34m,\u001b[0m \u001b[0mlimit\u001b[0m\u001b[0;34m)\u001b[0m\u001b[0;34m\u001b[0m\u001b[0;34m\u001b[0m\u001b[0m\n",
      "\u001b[0;32m/opt/conda/lib/python3.9/site-packages/gensim/models/keyedvectors.py\u001b[0m in \u001b[0;36m<listcomp>\u001b[0;34m(.0)\u001b[0m\n\u001b[1;32m   1964\u001b[0m         \u001b[0;32melse\u001b[0m\u001b[0;34m:\u001b[0m\u001b[0;34m\u001b[0m\u001b[0;34m\u001b[0m\u001b[0m\n\u001b[1;32m   1965\u001b[0m             \u001b[0mheader\u001b[0m \u001b[0;34m=\u001b[0m \u001b[0mutils\u001b[0m\u001b[0;34m.\u001b[0m\u001b[0mto_unicode\u001b[0m\u001b[0;34m(\u001b[0m\u001b[0mfin\u001b[0m\u001b[0;34m.\u001b[0m\u001b[0mreadline\u001b[0m\u001b[0;34m(\u001b[0m\u001b[0;34m)\u001b[0m\u001b[0;34m,\u001b[0m \u001b[0mencoding\u001b[0m\u001b[0;34m=\u001b[0m\u001b[0mencoding\u001b[0m\u001b[0;34m)\u001b[0m\u001b[0;34m\u001b[0m\u001b[0;34m\u001b[0m\u001b[0m\n\u001b[0;32m-> 1966\u001b[0;31m             \u001b[0mvocab_size\u001b[0m\u001b[0;34m,\u001b[0m \u001b[0mvector_size\u001b[0m \u001b[0;34m=\u001b[0m \u001b[0;34m[\u001b[0m\u001b[0mint\u001b[0m\u001b[0;34m(\u001b[0m\u001b[0mx\u001b[0m\u001b[0;34m)\u001b[0m \u001b[0;32mfor\u001b[0m \u001b[0mx\u001b[0m \u001b[0;32min\u001b[0m \u001b[0mheader\u001b[0m\u001b[0;34m.\u001b[0m\u001b[0msplit\u001b[0m\u001b[0;34m(\u001b[0m\u001b[0;34m)\u001b[0m\u001b[0;34m]\u001b[0m  \u001b[0;31m# throws for invalid file format\u001b[0m\u001b[0;34m\u001b[0m\u001b[0;34m\u001b[0m\u001b[0m\n\u001b[0m\u001b[1;32m   1967\u001b[0m         \u001b[0;32mif\u001b[0m \u001b[0mlimit\u001b[0m\u001b[0;34m:\u001b[0m\u001b[0;34m\u001b[0m\u001b[0;34m\u001b[0m\u001b[0m\n\u001b[1;32m   1968\u001b[0m             \u001b[0mvocab_size\u001b[0m \u001b[0;34m=\u001b[0m \u001b[0mmin\u001b[0m\u001b[0;34m(\u001b[0m\u001b[0mvocab_size\u001b[0m\u001b[0;34m,\u001b[0m \u001b[0mlimit\u001b[0m\u001b[0;34m)\u001b[0m\u001b[0;34m\u001b[0m\u001b[0;34m\u001b[0m\u001b[0m\n",
      "\u001b[0;31mValueError\u001b[0m: invalid literal for int() with base 10: '\\x80\\x02cgensim.models.word2vec'"
     ]
    }
   ],
   "source": [
    "from gensim.models import KeyedVectors\n",
    "\n",
    "# 모델 로드 (encoding='latin1' 또는 'utf-8' 사용)\n",
    "wv = KeyedVectors.load_word2vec_format(model_path, binary=True, encoding='latin1')\n",
    "\n",
    "# 모델 사용 예시\n",
    "print(wv.most_similar('안녕하세요'))  # '안녕하세요'와 유사한 단어 출력\n"
   ]
  },
  {
   "cell_type": "markdown",
   "id": "dd24faf5",
   "metadata": {},
   "source": [
    "### 모델 로드 에러 (3) \n",
    "- AttributeError: Can't get attribute 'Vocab' on <module 'gensim.models.word2vec' from '/opt/conda/lib/python3.9/site-packages/gensim/models/word2vec.py'>"
   ]
  },
  {
   "cell_type": "code",
   "execution_count": 39,
   "id": "9cabb181",
   "metadata": {},
   "outputs": [
    {
     "ename": "AttributeError",
     "evalue": "Can't get attribute 'Vocab' on <module 'gensim.models.word2vec' from '/opt/conda/lib/python3.9/site-packages/gensim/models/word2vec.py'>",
     "output_type": "error",
     "traceback": [
      "\u001b[0;31m---------------------------------------------------------------------------\u001b[0m",
      "\u001b[0;31mAttributeError\u001b[0m                            Traceback (most recent call last)",
      "\u001b[0;32m/tmp/ipykernel_32/4143871339.py\u001b[0m in \u001b[0;36m<module>\u001b[0;34m\u001b[0m\n\u001b[1;32m      3\u001b[0m \u001b[0;31m# 모델 로드 (피클 형식으로 저장된 모델)\u001b[0m\u001b[0;34m\u001b[0m\u001b[0;34m\u001b[0m\u001b[0m\n\u001b[1;32m      4\u001b[0m \u001b[0;31m# model_path = 'path/to/ko.bin'  # 실제 경로로 변경하세요\u001b[0m\u001b[0;34m\u001b[0m\u001b[0;34m\u001b[0m\u001b[0m\n\u001b[0;32m----> 5\u001b[0;31m \u001b[0mmodel\u001b[0m \u001b[0;34m=\u001b[0m \u001b[0mWord2Vec\u001b[0m\u001b[0;34m.\u001b[0m\u001b[0mload\u001b[0m\u001b[0;34m(\u001b[0m\u001b[0mmodel_path\u001b[0m\u001b[0;34m)\u001b[0m  \u001b[0;31m# 피클 형식으로 로드\u001b[0m\u001b[0;34m\u001b[0m\u001b[0;34m\u001b[0m\u001b[0m\n\u001b[0m\u001b[1;32m      6\u001b[0m \u001b[0;34m\u001b[0m\u001b[0m\n\u001b[1;32m      7\u001b[0m \u001b[0;31m# KeyedVectors 추출\u001b[0m\u001b[0;34m\u001b[0m\u001b[0;34m\u001b[0m\u001b[0m\n",
      "\u001b[0;32m/opt/conda/lib/python3.9/site-packages/gensim/models/word2vec.py\u001b[0m in \u001b[0;36mload\u001b[0;34m(cls, rethrow, *args, **kwargs)\u001b[0m\n\u001b[1;32m   1940\u001b[0m                 \u001b[0;34m\"Try loading older model using gensim-3.8.3, then re-saving, to restore \"\u001b[0m\u001b[0;34m\u001b[0m\u001b[0;34m\u001b[0m\u001b[0m\n\u001b[1;32m   1941\u001b[0m                 \"compatibility with current code.\")\n\u001b[0;32m-> 1942\u001b[0;31m             \u001b[0;32mraise\u001b[0m \u001b[0mae\u001b[0m\u001b[0;34m\u001b[0m\u001b[0;34m\u001b[0m\u001b[0m\n\u001b[0m\u001b[1;32m   1943\u001b[0m \u001b[0;34m\u001b[0m\u001b[0m\n\u001b[1;32m   1944\u001b[0m     \u001b[0;32mdef\u001b[0m \u001b[0m_load_specials\u001b[0m\u001b[0;34m(\u001b[0m\u001b[0mself\u001b[0m\u001b[0;34m,\u001b[0m \u001b[0;34m*\u001b[0m\u001b[0margs\u001b[0m\u001b[0;34m,\u001b[0m \u001b[0;34m**\u001b[0m\u001b[0mkwargs\u001b[0m\u001b[0;34m)\u001b[0m\u001b[0;34m:\u001b[0m\u001b[0;34m\u001b[0m\u001b[0;34m\u001b[0m\u001b[0m\n",
      "\u001b[0;32m/opt/conda/lib/python3.9/site-packages/gensim/models/word2vec.py\u001b[0m in \u001b[0;36mload\u001b[0;34m(cls, rethrow, *args, **kwargs)\u001b[0m\n\u001b[1;32m   1928\u001b[0m         \"\"\"\n\u001b[1;32m   1929\u001b[0m         \u001b[0;32mtry\u001b[0m\u001b[0;34m:\u001b[0m\u001b[0;34m\u001b[0m\u001b[0;34m\u001b[0m\u001b[0m\n\u001b[0;32m-> 1930\u001b[0;31m             \u001b[0mmodel\u001b[0m \u001b[0;34m=\u001b[0m \u001b[0msuper\u001b[0m\u001b[0;34m(\u001b[0m\u001b[0mWord2Vec\u001b[0m\u001b[0;34m,\u001b[0m \u001b[0mcls\u001b[0m\u001b[0;34m)\u001b[0m\u001b[0;34m.\u001b[0m\u001b[0mload\u001b[0m\u001b[0;34m(\u001b[0m\u001b[0;34m*\u001b[0m\u001b[0margs\u001b[0m\u001b[0;34m,\u001b[0m \u001b[0;34m**\u001b[0m\u001b[0mkwargs\u001b[0m\u001b[0;34m)\u001b[0m\u001b[0;34m\u001b[0m\u001b[0;34m\u001b[0m\u001b[0m\n\u001b[0m\u001b[1;32m   1931\u001b[0m             \u001b[0;32mif\u001b[0m \u001b[0;32mnot\u001b[0m \u001b[0misinstance\u001b[0m\u001b[0;34m(\u001b[0m\u001b[0mmodel\u001b[0m\u001b[0;34m,\u001b[0m \u001b[0mWord2Vec\u001b[0m\u001b[0;34m)\u001b[0m\u001b[0;34m:\u001b[0m\u001b[0;34m\u001b[0m\u001b[0;34m\u001b[0m\u001b[0m\n\u001b[1;32m   1932\u001b[0m                 \u001b[0mrethrow\u001b[0m \u001b[0;34m=\u001b[0m \u001b[0;32mTrue\u001b[0m\u001b[0;34m\u001b[0m\u001b[0;34m\u001b[0m\u001b[0m\n",
      "\u001b[0;32m/opt/conda/lib/python3.9/site-packages/gensim/utils.py\u001b[0m in \u001b[0;36mload\u001b[0;34m(cls, fname, mmap)\u001b[0m\n\u001b[1;32m    483\u001b[0m         \u001b[0mcompress\u001b[0m\u001b[0;34m,\u001b[0m \u001b[0msubname\u001b[0m \u001b[0;34m=\u001b[0m \u001b[0mSaveLoad\u001b[0m\u001b[0;34m.\u001b[0m\u001b[0m_adapt_by_suffix\u001b[0m\u001b[0;34m(\u001b[0m\u001b[0mfname\u001b[0m\u001b[0;34m)\u001b[0m\u001b[0;34m\u001b[0m\u001b[0;34m\u001b[0m\u001b[0m\n\u001b[1;32m    484\u001b[0m \u001b[0;34m\u001b[0m\u001b[0m\n\u001b[0;32m--> 485\u001b[0;31m         \u001b[0mobj\u001b[0m \u001b[0;34m=\u001b[0m \u001b[0munpickle\u001b[0m\u001b[0;34m(\u001b[0m\u001b[0mfname\u001b[0m\u001b[0;34m)\u001b[0m\u001b[0;34m\u001b[0m\u001b[0;34m\u001b[0m\u001b[0m\n\u001b[0m\u001b[1;32m    486\u001b[0m         \u001b[0mobj\u001b[0m\u001b[0;34m.\u001b[0m\u001b[0m_load_specials\u001b[0m\u001b[0;34m(\u001b[0m\u001b[0mfname\u001b[0m\u001b[0;34m,\u001b[0m \u001b[0mmmap\u001b[0m\u001b[0;34m,\u001b[0m \u001b[0mcompress\u001b[0m\u001b[0;34m,\u001b[0m \u001b[0msubname\u001b[0m\u001b[0;34m)\u001b[0m\u001b[0;34m\u001b[0m\u001b[0;34m\u001b[0m\u001b[0m\n\u001b[1;32m    487\u001b[0m         \u001b[0mobj\u001b[0m\u001b[0;34m.\u001b[0m\u001b[0madd_lifecycle_event\u001b[0m\u001b[0;34m(\u001b[0m\u001b[0;34m\"loaded\"\u001b[0m\u001b[0;34m,\u001b[0m \u001b[0mfname\u001b[0m\u001b[0;34m=\u001b[0m\u001b[0mfname\u001b[0m\u001b[0;34m)\u001b[0m\u001b[0;34m\u001b[0m\u001b[0;34m\u001b[0m\u001b[0m\n",
      "\u001b[0;32m/opt/conda/lib/python3.9/site-packages/gensim/utils.py\u001b[0m in \u001b[0;36munpickle\u001b[0;34m(fname)\u001b[0m\n\u001b[1;32m   1458\u001b[0m     \"\"\"\n\u001b[1;32m   1459\u001b[0m     \u001b[0;32mwith\u001b[0m \u001b[0mopen\u001b[0m\u001b[0;34m(\u001b[0m\u001b[0mfname\u001b[0m\u001b[0;34m,\u001b[0m \u001b[0;34m'rb'\u001b[0m\u001b[0;34m)\u001b[0m \u001b[0;32mas\u001b[0m \u001b[0mf\u001b[0m\u001b[0;34m:\u001b[0m\u001b[0;34m\u001b[0m\u001b[0;34m\u001b[0m\u001b[0m\n\u001b[0;32m-> 1460\u001b[0;31m         \u001b[0;32mreturn\u001b[0m \u001b[0m_pickle\u001b[0m\u001b[0;34m.\u001b[0m\u001b[0mload\u001b[0m\u001b[0;34m(\u001b[0m\u001b[0mf\u001b[0m\u001b[0;34m,\u001b[0m \u001b[0mencoding\u001b[0m\u001b[0;34m=\u001b[0m\u001b[0;34m'latin1'\u001b[0m\u001b[0;34m)\u001b[0m  \u001b[0;31m# needed because loading from S3 doesn't support readline()\u001b[0m\u001b[0;34m\u001b[0m\u001b[0;34m\u001b[0m\u001b[0m\n\u001b[0m\u001b[1;32m   1461\u001b[0m \u001b[0;34m\u001b[0m\u001b[0m\n\u001b[1;32m   1462\u001b[0m \u001b[0;34m\u001b[0m\u001b[0m\n",
      "\u001b[0;31mAttributeError\u001b[0m: Can't get attribute 'Vocab' on <module 'gensim.models.word2vec' from '/opt/conda/lib/python3.9/site-packages/gensim/models/word2vec.py'>"
     ]
    }
   ],
   "source": [
    "from gensim.models import Word2Vec\n",
    "\n",
    "# 모델 로드 (피클 형식으로 저장된 모델)\n",
    "# model_path = 'path/to/ko.bin'  # 실제 경로로 변경하세요\n",
    "model = Word2Vec.load(model_path)  # 피클 형식으로 로드\n",
    "\n",
    "# KeyedVectors 추출\n",
    "wv = model.wv  # Word2Vec 모델의 KeyedVectors\n",
    "\n",
    "# 필요한 경우, KeyedVectors를 새로운 파일로 저장\n",
    "wv.save('new_ko.kv')\n"
   ]
  },
  {
   "cell_type": "markdown",
   "id": "e5eb6f5c",
   "metadata": {},
   "source": [
    "### [해결] 모델 로드 에러 (4) : 버전 문제로 gensim 다운그레이드 후 실행 "
   ]
  },
  {
   "cell_type": "code",
   "execution_count": 36,
   "id": "132d0993",
   "metadata": {
    "scrolled": true
   },
   "outputs": [
    {
     "name": "stdout",
     "output_type": "stream",
     "text": [
      "[('고양이', 0.7290452718734741), ('거위', 0.7185635566711426), ('토끼', 0.7056223154067993), ('멧돼지', 0.6950401067733765), ('엄마', 0.6934334635734558), ('난쟁이', 0.6806551218032837), ('한마리', 0.6770296096801758), ('아가씨', 0.6750352382659912), ('아빠', 0.6729634404182434), ('목걸이', 0.6512460708618164)]\n"
     ]
    }
   ],
   "source": [
    "from gensim.models import Word2Vec\n",
    "\n",
    "ko_model = Word2Vec.load('/aiffel/aiffel/AIFFEL_quest_rs/GoingDeeper/Deep06/data/ko.bin')\n",
    "\n",
    "# KeyedVectors 추출\n",
    "wv = ko_model.wv\n",
    "\n",
    "similar_words = wv.most_similar(\"강아지\")\n",
    "print(similar_words)"
   ]
  },
  {
   "cell_type": "markdown",
   "id": "4c422efb",
   "metadata": {},
   "source": [
    "### 다시 보니, 커널 재시작 후 코드 변경 없이 잘 진행 된 것을 보면, 위 에러 코드들도 커널 재시작만 했다면 잘 진행되었을 것이라는 생각이 든다. (gensin 다운그레이드 내용이 잘 반영되려면 커널 재시작 해야 함을 뒤늦게 깨달았다!)"
   ]
  },
  {
   "cell_type": "code",
   "execution_count": 37,
   "id": "ed416561",
   "metadata": {},
   "outputs": [],
   "source": [
    "# 본 프로젝트 코드에 맞춰 수정한 lexical_sub()\n",
    "import random\n",
    "\n",
    "\n",
    "'''\n",
    "def lexical_sub(sample_sentence, wv) :  # pre-training 임베딩 모델 \n",
    "\n",
    "    sample_tokens = sample_sentence\n",
    "\n",
    "    selected_tok = random.choice(sample_tokens) # token 중 랜덤하게 하나 추출 \n",
    "\n",
    "    result = \"\"\n",
    "    for tok in sample_tokens:\n",
    "        if tok is selected_tok:\n",
    "            result += wv.most_similar(tok)[0][0] + \" \"\n",
    "\n",
    "        else:\n",
    "            result += tok + \" \"\n",
    "\n",
    "    return result\n",
    "'''\n",
    "\n",
    "\n",
    "def preprocess_text(text):\n",
    "    # 중첩 리스트를 풀어서 모든 요소를 하나의 문자열로 변환\n",
    "    if isinstance(text, list):\n",
    "        text = ' '.join([subtext if isinstance(subtext, str) else ' '.join(subtext) for subtext in text])\n",
    "    text = re.sub(r\"[^\\w\\s]\", \"\", text)  # 구두점 제거\n",
    "    return text\n",
    "\n",
    "def lexical_sub(list_sample_sentence, wv):\n",
    "    result = \"\"\n",
    "    sample_tokens = preprocess_text(list_sample_sentence).split(' ') # space 분리 \n",
    "    selected_tok = random.choice([tok for tok in sample_tokens if tok]) if sample_tokens else None  # 토큰이 비어있는 경우를 방지하여 무작위로 선택\n",
    "\n",
    "    for tok in sample_tokens:\n",
    "        try:\n",
    "            if tok == selected_tok:\n",
    "                result += wv.most_similar(tok)[0][0] + \" \"  # 유사한 단어가 있을 경우 첫 번째 유사 단어로 대체\n",
    "            else:\n",
    "                result += tok + \" \"  # 비슷한 단어가 없으면 원래 토큰 사용\n",
    "        except KeyError:\n",
    "            # 토큰이 어휘에 없을 경우 원래 단어를 그대로 사용하거나 다른 처리를 여기에 추가\n",
    "            result += tok + \" \"\n",
    "    \n",
    "    return result.strip()\n"
   ]
  },
  {
   "cell_type": "code",
   "execution_count": 38,
   "id": "2a6f7624",
   "metadata": {},
   "outputs": [
    {
     "ename": "TypeError",
     "evalue": "expected string or bytes-like object",
     "output_type": "error",
     "traceback": [
      "\u001b[0;31m---------------------------------------------------------------------------\u001b[0m",
      "\u001b[0;31mTypeError\u001b[0m                                 Traceback (most recent call last)",
      "\u001b[0;32m/tmp/ipykernel_31/3270017905.py\u001b[0m in \u001b[0;36m<module>\u001b[0;34m\u001b[0m\n\u001b[0;32m----> 1\u001b[0;31m \u001b[0mprint\u001b[0m\u001b[0;34m(\u001b[0m\u001b[0mlexical_sub\u001b[0m\u001b[0;34m(\u001b[0m\u001b[0mque_corpus\u001b[0m\u001b[0;34m[\u001b[0m\u001b[0;34m:\u001b[0m\u001b[0;36m5\u001b[0m\u001b[0;34m]\u001b[0m\u001b[0;34m,\u001b[0m \u001b[0mwv\u001b[0m\u001b[0;34m)\u001b[0m\u001b[0;34m)\u001b[0m  \u001b[0;31m# debugging\u001b[0m\u001b[0;34m\u001b[0m\u001b[0;34m\u001b[0m\u001b[0m\n\u001b[0m",
      "\u001b[0;32m/tmp/ipykernel_31/214556515.py\u001b[0m in \u001b[0;36mlexical_sub\u001b[0;34m(list_sample_sentence, wv)\u001b[0m\n\u001b[1;32m     31\u001b[0m \u001b[0;32mdef\u001b[0m \u001b[0mlexical_sub\u001b[0m\u001b[0;34m(\u001b[0m\u001b[0mlist_sample_sentence\u001b[0m\u001b[0;34m,\u001b[0m \u001b[0mwv\u001b[0m\u001b[0;34m)\u001b[0m\u001b[0;34m:\u001b[0m\u001b[0;34m\u001b[0m\u001b[0;34m\u001b[0m\u001b[0m\n\u001b[1;32m     32\u001b[0m     \u001b[0mresult\u001b[0m \u001b[0;34m=\u001b[0m \u001b[0;34m\"\"\u001b[0m\u001b[0;34m\u001b[0m\u001b[0;34m\u001b[0m\u001b[0m\n\u001b[0;32m---> 33\u001b[0;31m     \u001b[0msample_tokens\u001b[0m \u001b[0;34m=\u001b[0m \u001b[0mpreprocess_text\u001b[0m\u001b[0;34m(\u001b[0m\u001b[0mlist_sample_sentence\u001b[0m\u001b[0;34m)\u001b[0m\u001b[0;34m.\u001b[0m\u001b[0msplit\u001b[0m\u001b[0;34m(\u001b[0m\u001b[0;34m' '\u001b[0m\u001b[0;34m)\u001b[0m \u001b[0;31m# space 분리\u001b[0m\u001b[0;34m\u001b[0m\u001b[0;34m\u001b[0m\u001b[0m\n\u001b[0m\u001b[1;32m     34\u001b[0m     \u001b[0mselected_tok\u001b[0m \u001b[0;34m=\u001b[0m \u001b[0mrandom\u001b[0m\u001b[0;34m.\u001b[0m\u001b[0mchoice\u001b[0m\u001b[0;34m(\u001b[0m\u001b[0;34m[\u001b[0m\u001b[0mtok\u001b[0m \u001b[0;32mfor\u001b[0m \u001b[0mtok\u001b[0m \u001b[0;32min\u001b[0m \u001b[0msample_tokens\u001b[0m \u001b[0;32mif\u001b[0m \u001b[0mtok\u001b[0m\u001b[0;34m]\u001b[0m\u001b[0;34m)\u001b[0m \u001b[0;32mif\u001b[0m \u001b[0msample_tokens\u001b[0m \u001b[0;32melse\u001b[0m \u001b[0;32mNone\u001b[0m  \u001b[0;31m# 토큰이 비어있는 경우를 방지하여 무작위로 선택\u001b[0m\u001b[0;34m\u001b[0m\u001b[0;34m\u001b[0m\u001b[0m\n\u001b[1;32m     35\u001b[0m \u001b[0;34m\u001b[0m\u001b[0m\n",
      "\u001b[0;32m/tmp/ipykernel_31/214556515.py\u001b[0m in \u001b[0;36mpreprocess_text\u001b[0;34m(text)\u001b[0m\n\u001b[1;32m     26\u001b[0m     \u001b[0;32mif\u001b[0m \u001b[0misinstance\u001b[0m\u001b[0;34m(\u001b[0m\u001b[0mtext\u001b[0m\u001b[0;34m,\u001b[0m \u001b[0mlist\u001b[0m\u001b[0;34m)\u001b[0m\u001b[0;34m:\u001b[0m\u001b[0;34m\u001b[0m\u001b[0;34m\u001b[0m\u001b[0m\n\u001b[1;32m     27\u001b[0m         \u001b[0mtext\u001b[0m \u001b[0;34m=\u001b[0m \u001b[0;34m' '\u001b[0m\u001b[0;34m.\u001b[0m\u001b[0mjoin\u001b[0m\u001b[0;34m(\u001b[0m\u001b[0;34m[\u001b[0m\u001b[0msubtext\u001b[0m \u001b[0;32mif\u001b[0m \u001b[0misinstance\u001b[0m\u001b[0;34m(\u001b[0m\u001b[0msubtext\u001b[0m\u001b[0;34m,\u001b[0m \u001b[0mstr\u001b[0m\u001b[0;34m)\u001b[0m \u001b[0;32melse\u001b[0m \u001b[0;34m' '\u001b[0m\u001b[0;34m.\u001b[0m\u001b[0mjoin\u001b[0m\u001b[0;34m(\u001b[0m\u001b[0msubtext\u001b[0m\u001b[0;34m)\u001b[0m \u001b[0;32mfor\u001b[0m \u001b[0msubtext\u001b[0m \u001b[0;32min\u001b[0m \u001b[0mtext\u001b[0m\u001b[0;34m]\u001b[0m\u001b[0;34m)\u001b[0m\u001b[0;34m\u001b[0m\u001b[0;34m\u001b[0m\u001b[0m\n\u001b[0;32m---> 28\u001b[0;31m     \u001b[0mtext\u001b[0m \u001b[0;34m=\u001b[0m \u001b[0mre\u001b[0m\u001b[0;34m.\u001b[0m\u001b[0msub\u001b[0m\u001b[0;34m(\u001b[0m\u001b[0;34mr\"[^\\w\\s]\"\u001b[0m\u001b[0;34m,\u001b[0m \u001b[0;34m\"\"\u001b[0m\u001b[0;34m,\u001b[0m \u001b[0mtext\u001b[0m\u001b[0;34m)\u001b[0m  \u001b[0;31m# 구두점 제거\u001b[0m\u001b[0;34m\u001b[0m\u001b[0;34m\u001b[0m\u001b[0m\n\u001b[0m\u001b[1;32m     29\u001b[0m     \u001b[0;32mreturn\u001b[0m \u001b[0mtext\u001b[0m\u001b[0;34m\u001b[0m\u001b[0;34m\u001b[0m\u001b[0m\n\u001b[1;32m     30\u001b[0m \u001b[0;34m\u001b[0m\u001b[0m\n",
      "\u001b[0;32m/opt/conda/lib/python3.9/re.py\u001b[0m in \u001b[0;36msub\u001b[0;34m(pattern, repl, string, count, flags)\u001b[0m\n\u001b[1;32m    208\u001b[0m     \u001b[0ma\u001b[0m \u001b[0mcallable\u001b[0m\u001b[0;34m,\u001b[0m \u001b[0mit\u001b[0m\u001b[0;31m'\u001b[0m\u001b[0ms\u001b[0m \u001b[0mpassed\u001b[0m \u001b[0mthe\u001b[0m \u001b[0mMatch\u001b[0m \u001b[0mobject\u001b[0m \u001b[0;32mand\u001b[0m \u001b[0mmust\u001b[0m \u001b[0;32mreturn\u001b[0m\u001b[0;34m\u001b[0m\u001b[0;34m\u001b[0m\u001b[0m\n\u001b[1;32m    209\u001b[0m     a replacement string to be used.\"\"\"\n\u001b[0;32m--> 210\u001b[0;31m     \u001b[0;32mreturn\u001b[0m \u001b[0m_compile\u001b[0m\u001b[0;34m(\u001b[0m\u001b[0mpattern\u001b[0m\u001b[0;34m,\u001b[0m \u001b[0mflags\u001b[0m\u001b[0;34m)\u001b[0m\u001b[0;34m.\u001b[0m\u001b[0msub\u001b[0m\u001b[0;34m(\u001b[0m\u001b[0mrepl\u001b[0m\u001b[0;34m,\u001b[0m \u001b[0mstring\u001b[0m\u001b[0;34m,\u001b[0m \u001b[0mcount\u001b[0m\u001b[0;34m)\u001b[0m\u001b[0;34m\u001b[0m\u001b[0;34m\u001b[0m\u001b[0m\n\u001b[0m\u001b[1;32m    211\u001b[0m \u001b[0;34m\u001b[0m\u001b[0m\n\u001b[1;32m    212\u001b[0m \u001b[0;32mdef\u001b[0m \u001b[0msubn\u001b[0m\u001b[0;34m(\u001b[0m\u001b[0mpattern\u001b[0m\u001b[0;34m,\u001b[0m \u001b[0mrepl\u001b[0m\u001b[0;34m,\u001b[0m \u001b[0mstring\u001b[0m\u001b[0;34m,\u001b[0m \u001b[0mcount\u001b[0m\u001b[0;34m=\u001b[0m\u001b[0;36m0\u001b[0m\u001b[0;34m,\u001b[0m \u001b[0mflags\u001b[0m\u001b[0;34m=\u001b[0m\u001b[0;36m0\u001b[0m\u001b[0;34m)\u001b[0m\u001b[0;34m:\u001b[0m\u001b[0;34m\u001b[0m\u001b[0;34m\u001b[0m\u001b[0m\n",
      "\u001b[0;31mTypeError\u001b[0m: expected string or bytes-like object"
     ]
    }
   ],
   "source": [
    "print(lexical_sub(que_corpus[:5], wv))  # debugging"
   ]
  },
  {
   "cell_type": "markdown",
   "id": "f4469346",
   "metadata": {},
   "source": [
    "### 1) Augmentation된 que_corpus 와 원본 ans_corpus 가 병렬을 이루도록 하기"
   ]
  },
  {
   "cell_type": "code",
   "execution_count": 39,
   "id": "16ae2160",
   "metadata": {},
   "outputs": [
    {
     "data": {
      "text/html": [
       "<div>\n",
       "<style scoped>\n",
       "    .dataframe tbody tr th:only-of-type {\n",
       "        vertical-align: middle;\n",
       "    }\n",
       "\n",
       "    .dataframe tbody tr th {\n",
       "        vertical-align: top;\n",
       "    }\n",
       "\n",
       "    .dataframe thead th {\n",
       "        text-align: right;\n",
       "    }\n",
       "</style>\n",
       "<table border=\"1\" class=\"dataframe\">\n",
       "  <thead>\n",
       "    <tr style=\"text-align: right;\">\n",
       "      <th></th>\n",
       "      <th>augmented_que_text</th>\n",
       "    </tr>\n",
       "  </thead>\n",
       "  <tbody>\n",
       "    <tr>\n",
       "      <th>0</th>\n",
       "      <td>12 시 땡</td>\n",
       "    </tr>\n",
       "    <tr>\n",
       "      <th>1</th>\n",
       "      <td>1 지망 학교의 떨어졌 어</td>\n",
       "    </tr>\n",
       "    <tr>\n",
       "      <th>2</th>\n",
       "      <td>3 박 4 일 살 러 가 고 싶 다</td>\n",
       "    </tr>\n",
       "    <tr>\n",
       "      <th>3</th>\n",
       "      <td>3 박 4 일 정도 놀 러 놀드 고 싶 다</td>\n",
       "    </tr>\n",
       "    <tr>\n",
       "      <th>4</th>\n",
       "      <td>ppl 강하 네</td>\n",
       "    </tr>\n",
       "  </tbody>\n",
       "</table>\n",
       "</div>"
      ],
      "text/plain": [
       "        augmented_que_text\n",
       "0                   12 시 땡\n",
       "1           1 지망 학교의 떨어졌 어\n",
       "2      3 박 4 일 살 러 가 고 싶 다\n",
       "3  3 박 4 일 정도 놀 러 놀드 고 싶 다\n",
       "4                 ppl 강하 네"
      ]
     },
     "execution_count": 39,
     "metadata": {},
     "output_type": "execute_result"
    }
   ],
   "source": [
    "# que_corpus 증강\n",
    "# que_corpus의 각 문장을 증강하여 리스트로 저장\n",
    "agmt_que = [lexical_sub(sentence, wv) for sentence in que_corpus]\n",
    "\n",
    "# DataFrame으로 변환\n",
    "df_agmt_que = pd.DataFrame(agmt_que, columns=[\"augmented_que_text\"])\n",
    "df_agmt_que.head()\n"
   ]
  },
  {
   "cell_type": "code",
   "execution_count": 19,
   "id": "f3314157",
   "metadata": {},
   "outputs": [
    {
     "data": {
      "text/html": [
       "<div>\n",
       "<style scoped>\n",
       "    .dataframe tbody tr th:only-of-type {\n",
       "        vertical-align: middle;\n",
       "    }\n",
       "\n",
       "    .dataframe tbody tr th {\n",
       "        vertical-align: top;\n",
       "    }\n",
       "\n",
       "    .dataframe thead th {\n",
       "        text-align: right;\n",
       "    }\n",
       "</style>\n",
       "<table border=\"1\" class=\"dataframe\">\n",
       "  <thead>\n",
       "    <tr style=\"text-align: right;\">\n",
       "      <th></th>\n",
       "      <th>augmented_que_text</th>\n",
       "    </tr>\n",
       "  </thead>\n",
       "  <tbody>\n",
       "    <tr>\n",
       "      <th>0</th>\n",
       "      <td>[12, 시, 땡]</td>\n",
       "    </tr>\n",
       "    <tr>\n",
       "      <th>1</th>\n",
       "      <td>[1, 지망, 학교, 떨어졌, 어]</td>\n",
       "    </tr>\n",
       "    <tr>\n",
       "      <th>2</th>\n",
       "      <td>[3, 박, 4, 일, 놀, 러, 가, 고, 싶, 다]</td>\n",
       "    </tr>\n",
       "    <tr>\n",
       "      <th>3</th>\n",
       "      <td>[3, 박, 4, 일, 정도, 놀, 러, 가, 고, 싶, 다]</td>\n",
       "    </tr>\n",
       "    <tr>\n",
       "      <th>4</th>\n",
       "      <td>[ppl, 강하, 네]</td>\n",
       "    </tr>\n",
       "  </tbody>\n",
       "</table>\n",
       "</div>"
      ],
      "text/plain": [
       "                   augmented_que_text\n",
       "0                          [12, 시, 땡]\n",
       "1                 [1, 지망, 학교, 떨어졌, 어]\n",
       "2      [3, 박, 4, 일, 놀, 러, 가, 고, 싶, 다]\n",
       "3  [3, 박, 4, 일, 정도, 놀, 러, 가, 고, 싶, 다]\n",
       "4                        [ppl, 강하, 네]"
      ]
     },
     "execution_count": 19,
     "metadata": {},
     "output_type": "execute_result"
    }
   ],
   "source": [
    "# 공백을 기준으로 분리하여 새로운 열에 저장\n",
    "df_agmt_que_tokens = pd.DataFrame()\n",
    "\n",
    "df_agmt_que_tokens[\"augmented_que_text\"] = df_agmt_que[\"augmented_que_text\"].apply(lambda x: x.split())\n",
    "df_agmt_que_tokens.head()"
   ]
  },
  {
   "cell_type": "code",
   "execution_count": 20,
   "id": "6a115bea",
   "metadata": {},
   "outputs": [
    {
     "data": {
      "text/html": [
       "<div>\n",
       "<style scoped>\n",
       "    .dataframe tbody tr th:only-of-type {\n",
       "        vertical-align: middle;\n",
       "    }\n",
       "\n",
       "    .dataframe tbody tr th {\n",
       "        vertical-align: top;\n",
       "    }\n",
       "\n",
       "    .dataframe thead th {\n",
       "        text-align: right;\n",
       "    }\n",
       "</style>\n",
       "<table border=\"1\" class=\"dataframe\">\n",
       "  <thead>\n",
       "    <tr style=\"text-align: right;\">\n",
       "      <th></th>\n",
       "      <th>augmented_que_text</th>\n",
       "      <th>ans_text</th>\n",
       "    </tr>\n",
       "  </thead>\n",
       "  <tbody>\n",
       "    <tr>\n",
       "      <th>0</th>\n",
       "      <td>[12, 시, 땡]</td>\n",
       "      <td>[하루, 가, 또, 가, 네요, .]</td>\n",
       "    </tr>\n",
       "    <tr>\n",
       "      <th>1</th>\n",
       "      <td>[1, 지망, 학교, 떨어졌, 어]</td>\n",
       "      <td>[위로, 해, 드립니다, .]</td>\n",
       "    </tr>\n",
       "    <tr>\n",
       "      <th>2</th>\n",
       "      <td>[3, 박, 4, 일, 놀, 러, 가, 고, 싶, 다]</td>\n",
       "      <td>[여행, 은, 언제나, 좋, 죠, .]</td>\n",
       "    </tr>\n",
       "    <tr>\n",
       "      <th>3</th>\n",
       "      <td>[3, 박, 4, 일, 정도, 놀, 러, 가, 고, 싶, 다]</td>\n",
       "      <td>[여행, 은, 언제나, 좋, 죠, .]</td>\n",
       "    </tr>\n",
       "    <tr>\n",
       "      <th>4</th>\n",
       "      <td>[ppl, 강하, 네]</td>\n",
       "      <td>[눈살, 이, 찌푸려, 지, 죠, .]</td>\n",
       "    </tr>\n",
       "  </tbody>\n",
       "</table>\n",
       "</div>"
      ],
      "text/plain": [
       "                   augmented_que_text               ans_text\n",
       "0                          [12, 시, 땡]   [하루, 가, 또, 가, 네요, .]\n",
       "1                 [1, 지망, 학교, 떨어졌, 어]       [위로, 해, 드립니다, .]\n",
       "2      [3, 박, 4, 일, 놀, 러, 가, 고, 싶, 다]  [여행, 은, 언제나, 좋, 죠, .]\n",
       "3  [3, 박, 4, 일, 정도, 놀, 러, 가, 고, 싶, 다]  [여행, 은, 언제나, 좋, 죠, .]\n",
       "4                        [ppl, 강하, 네]  [눈살, 이, 찌푸려, 지, 죠, .]"
      ]
     },
     "execution_count": 20,
     "metadata": {},
     "output_type": "execute_result"
    }
   ],
   "source": [
    "df_agmt_que_tokens['ans_text'] = ans_corpus.copy()\n",
    "df_agmt_que_tokens.head()"
   ]
  },
  {
   "cell_type": "markdown",
   "id": "78fecaf8",
   "metadata": {},
   "source": [
    "### 2) 이후엔 반대로 원본 que_corpus 와 Augmentation된 ans_corpus 가 병렬을 이루도록 하기"
   ]
  },
  {
   "cell_type": "code",
   "execution_count": 21,
   "id": "8de63fd7",
   "metadata": {},
   "outputs": [
    {
     "data": {
      "text/html": [
       "<div>\n",
       "<style scoped>\n",
       "    .dataframe tbody tr th:only-of-type {\n",
       "        vertical-align: middle;\n",
       "    }\n",
       "\n",
       "    .dataframe tbody tr th {\n",
       "        vertical-align: top;\n",
       "    }\n",
       "\n",
       "    .dataframe thead th {\n",
       "        text-align: right;\n",
       "    }\n",
       "</style>\n",
       "<table border=\"1\" class=\"dataframe\">\n",
       "  <thead>\n",
       "    <tr style=\"text-align: right;\">\n",
       "      <th></th>\n",
       "      <th>augmented_ans_text</th>\n",
       "    </tr>\n",
       "  </thead>\n",
       "  <tbody>\n",
       "    <tr>\n",
       "      <th>0</th>\n",
       "      <td>하루 가 또 가 군요</td>\n",
       "    </tr>\n",
       "    <tr>\n",
       "      <th>1</th>\n",
       "      <td>위로 해의 드립니다</td>\n",
       "    </tr>\n",
       "    <tr>\n",
       "      <th>2</th>\n",
       "      <td>여행 은 언제나 괜찮 죠</td>\n",
       "    </tr>\n",
       "    <tr>\n",
       "      <th>3</th>\n",
       "      <td>여행 은 언제나 괜찮 죠</td>\n",
       "    </tr>\n",
       "    <tr>\n",
       "      <th>4</th>\n",
       "      <td>눈살 이 찌푸려 꼼짝 죠</td>\n",
       "    </tr>\n",
       "  </tbody>\n",
       "</table>\n",
       "</div>"
      ],
      "text/plain": [
       "  augmented_ans_text\n",
       "0        하루 가 또 가 군요\n",
       "1         위로 해의 드립니다\n",
       "2      여행 은 언제나 괜찮 죠\n",
       "3      여행 은 언제나 괜찮 죠\n",
       "4      눈살 이 찌푸려 꼼짝 죠"
      ]
     },
     "execution_count": 21,
     "metadata": {},
     "output_type": "execute_result"
    }
   ],
   "source": [
    "# ans_corpus 증강\n",
    "# ans_corpus 증강\n",
    "# ans_corpus 각 문장을 증강하여 리스트로 저장\n",
    "agmt_ans = [lexical_sub(sentence, wv) for sentence in ans_corpus]\n",
    "\n",
    "# DataFrame으로 변환\n",
    "df_agmt_ans = pd.DataFrame(agmt_ans, columns=[\"augmented_ans_text\"])\n",
    "df_agmt_ans.head()\n"
   ]
  },
  {
   "cell_type": "code",
   "execution_count": 22,
   "id": "e8a459e3",
   "metadata": {},
   "outputs": [
    {
     "data": {
      "text/html": [
       "<div>\n",
       "<style scoped>\n",
       "    .dataframe tbody tr th:only-of-type {\n",
       "        vertical-align: middle;\n",
       "    }\n",
       "\n",
       "    .dataframe tbody tr th {\n",
       "        vertical-align: top;\n",
       "    }\n",
       "\n",
       "    .dataframe thead th {\n",
       "        text-align: right;\n",
       "    }\n",
       "</style>\n",
       "<table border=\"1\" class=\"dataframe\">\n",
       "  <thead>\n",
       "    <tr style=\"text-align: right;\">\n",
       "      <th></th>\n",
       "      <th>augmented_ans_text</th>\n",
       "    </tr>\n",
       "  </thead>\n",
       "  <tbody>\n",
       "    <tr>\n",
       "      <th>0</th>\n",
       "      <td>[하루, 가, 또, 가, 군요]</td>\n",
       "    </tr>\n",
       "    <tr>\n",
       "      <th>1</th>\n",
       "      <td>[위로, 해의, 드립니다]</td>\n",
       "    </tr>\n",
       "    <tr>\n",
       "      <th>2</th>\n",
       "      <td>[여행, 은, 언제나, 괜찮, 죠]</td>\n",
       "    </tr>\n",
       "    <tr>\n",
       "      <th>3</th>\n",
       "      <td>[여행, 은, 언제나, 괜찮, 죠]</td>\n",
       "    </tr>\n",
       "    <tr>\n",
       "      <th>4</th>\n",
       "      <td>[눈살, 이, 찌푸려, 꼼짝, 죠]</td>\n",
       "    </tr>\n",
       "  </tbody>\n",
       "</table>\n",
       "</div>"
      ],
      "text/plain": [
       "    augmented_ans_text\n",
       "0    [하루, 가, 또, 가, 군요]\n",
       "1       [위로, 해의, 드립니다]\n",
       "2  [여행, 은, 언제나, 괜찮, 죠]\n",
       "3  [여행, 은, 언제나, 괜찮, 죠]\n",
       "4  [눈살, 이, 찌푸려, 꼼짝, 죠]"
      ]
     },
     "execution_count": 22,
     "metadata": {},
     "output_type": "execute_result"
    }
   ],
   "source": [
    "# 공백을 기준으로 분리하여 새로운 열에 저장\n",
    "df_agmt_ans_tokens = pd.DataFrame()\n",
    "\n",
    "df_agmt_ans_tokens[\"augmented_ans_text\"] = df_agmt_ans[\"augmented_ans_text\"].apply(lambda x: x.split())\n",
    "df_agmt_ans_tokens.head()"
   ]
  },
  {
   "cell_type": "code",
   "execution_count": 23,
   "id": "07e9b541",
   "metadata": {},
   "outputs": [
    {
     "data": {
      "text/html": [
       "<div>\n",
       "<style scoped>\n",
       "    .dataframe tbody tr th:only-of-type {\n",
       "        vertical-align: middle;\n",
       "    }\n",
       "\n",
       "    .dataframe tbody tr th {\n",
       "        vertical-align: top;\n",
       "    }\n",
       "\n",
       "    .dataframe thead th {\n",
       "        text-align: right;\n",
       "    }\n",
       "</style>\n",
       "<table border=\"1\" class=\"dataframe\">\n",
       "  <thead>\n",
       "    <tr style=\"text-align: right;\">\n",
       "      <th></th>\n",
       "      <th>que_text</th>\n",
       "      <th>augmented_ans_text</th>\n",
       "    </tr>\n",
       "  </thead>\n",
       "  <tbody>\n",
       "    <tr>\n",
       "      <th>0</th>\n",
       "      <td>[12, 시, 땡, !]</td>\n",
       "      <td>[하루, 가, 또, 가, 군요]</td>\n",
       "    </tr>\n",
       "    <tr>\n",
       "      <th>1</th>\n",
       "      <td>[1, 지망, 학교, 떨어졌, 어]</td>\n",
       "      <td>[위로, 해의, 드립니다]</td>\n",
       "    </tr>\n",
       "    <tr>\n",
       "      <th>2</th>\n",
       "      <td>[3, 박, 4, 일, 놀, 러, 가, 고, 싶, 다]</td>\n",
       "      <td>[여행, 은, 언제나, 괜찮, 죠]</td>\n",
       "    </tr>\n",
       "    <tr>\n",
       "      <th>3</th>\n",
       "      <td>[3, 박, 4, 일, 정도, 놀, 러, 가, 고, 싶, 다]</td>\n",
       "      <td>[여행, 은, 언제나, 괜찮, 죠]</td>\n",
       "    </tr>\n",
       "    <tr>\n",
       "      <th>4</th>\n",
       "      <td>[ppl, 심하, 네]</td>\n",
       "      <td>[눈살, 이, 찌푸려, 꼼짝, 죠]</td>\n",
       "    </tr>\n",
       "  </tbody>\n",
       "</table>\n",
       "</div>"
      ],
      "text/plain": [
       "                             que_text   augmented_ans_text\n",
       "0                       [12, 시, 땡, !]    [하루, 가, 또, 가, 군요]\n",
       "1                 [1, 지망, 학교, 떨어졌, 어]       [위로, 해의, 드립니다]\n",
       "2      [3, 박, 4, 일, 놀, 러, 가, 고, 싶, 다]  [여행, 은, 언제나, 괜찮, 죠]\n",
       "3  [3, 박, 4, 일, 정도, 놀, 러, 가, 고, 싶, 다]  [여행, 은, 언제나, 괜찮, 죠]\n",
       "4                        [ppl, 심하, 네]  [눈살, 이, 찌푸려, 꼼짝, 죠]"
      ]
     },
     "execution_count": 23,
     "metadata": {},
     "output_type": "execute_result"
    }
   ],
   "source": [
    "df_agmt_ans_tokens['que_text'] = que_corpus.copy()\n",
    "\n",
    "df_agmt_ans_tokens = df_agmt_ans_tokens[[\"que_text\", \"augmented_ans_text\"]]\n",
    "df_agmt_ans_tokens.head()"
   ]
  },
  {
   "cell_type": "markdown",
   "id": "9a09e011",
   "metadata": {},
   "source": [
    "### 3) 전체 데이터가 원래의 3배가량으로 늘어나도록 하기 "
   ]
  },
  {
   "cell_type": "code",
   "execution_count": 24,
   "id": "ad531d21",
   "metadata": {},
   "outputs": [
    {
     "data": {
      "text/html": [
       "<div>\n",
       "<style scoped>\n",
       "    .dataframe tbody tr th:only-of-type {\n",
       "        vertical-align: middle;\n",
       "    }\n",
       "\n",
       "    .dataframe tbody tr th {\n",
       "        vertical-align: top;\n",
       "    }\n",
       "\n",
       "    .dataframe thead th {\n",
       "        text-align: right;\n",
       "    }\n",
       "</style>\n",
       "<table border=\"1\" class=\"dataframe\">\n",
       "  <thead>\n",
       "    <tr style=\"text-align: right;\">\n",
       "      <th></th>\n",
       "      <th>que_text</th>\n",
       "      <th>ans_text</th>\n",
       "    </tr>\n",
       "  </thead>\n",
       "  <tbody>\n",
       "    <tr>\n",
       "      <th>0</th>\n",
       "      <td>[12, 시, 땡, !]</td>\n",
       "      <td>[하루, 가, 또, 가, 네요, .]</td>\n",
       "    </tr>\n",
       "    <tr>\n",
       "      <th>1</th>\n",
       "      <td>[1, 지망, 학교, 떨어졌, 어]</td>\n",
       "      <td>[위로, 해, 드립니다, .]</td>\n",
       "    </tr>\n",
       "    <tr>\n",
       "      <th>2</th>\n",
       "      <td>[3, 박, 4, 일, 놀, 러, 가, 고, 싶, 다]</td>\n",
       "      <td>[여행, 은, 언제나, 좋, 죠, .]</td>\n",
       "    </tr>\n",
       "    <tr>\n",
       "      <th>3</th>\n",
       "      <td>[3, 박, 4, 일, 정도, 놀, 러, 가, 고, 싶, 다]</td>\n",
       "      <td>[여행, 은, 언제나, 좋, 죠, .]</td>\n",
       "    </tr>\n",
       "    <tr>\n",
       "      <th>4</th>\n",
       "      <td>[ppl, 심하, 네]</td>\n",
       "      <td>[눈살, 이, 찌푸려, 지, 죠, .]</td>\n",
       "    </tr>\n",
       "  </tbody>\n",
       "</table>\n",
       "</div>"
      ],
      "text/plain": [
       "                             que_text               ans_text\n",
       "0                       [12, 시, 땡, !]   [하루, 가, 또, 가, 네요, .]\n",
       "1                 [1, 지망, 학교, 떨어졌, 어]       [위로, 해, 드립니다, .]\n",
       "2      [3, 박, 4, 일, 놀, 러, 가, 고, 싶, 다]  [여행, 은, 언제나, 좋, 죠, .]\n",
       "3  [3, 박, 4, 일, 정도, 놀, 러, 가, 고, 싶, 다]  [여행, 은, 언제나, 좋, 죠, .]\n",
       "4                        [ppl, 심하, 네]  [눈살, 이, 찌푸려, 지, 죠, .]"
      ]
     },
     "execution_count": 24,
     "metadata": {},
     "output_type": "execute_result"
    }
   ],
   "source": [
    "df_origin = pd.DataFrame()\n",
    "\n",
    "df_origin['que_text'] = que_corpus   ## 기억: 데이터프레임 생성 시 리스트 그대로 넣는 것임 \n",
    "df_origin['ans_text'] = ans_corpus\n",
    "\n",
    "df_origin.head()"
   ]
  },
  {
   "cell_type": "code",
   "execution_count": 25,
   "id": "c2461ff5",
   "metadata": {},
   "outputs": [
    {
     "data": {
      "text/html": [
       "<div>\n",
       "<style scoped>\n",
       "    .dataframe tbody tr th:only-of-type {\n",
       "        vertical-align: middle;\n",
       "    }\n",
       "\n",
       "    .dataframe tbody tr th {\n",
       "        vertical-align: top;\n",
       "    }\n",
       "\n",
       "    .dataframe thead th {\n",
       "        text-align: right;\n",
       "    }\n",
       "</style>\n",
       "<table border=\"1\" class=\"dataframe\">\n",
       "  <thead>\n",
       "    <tr style=\"text-align: right;\">\n",
       "      <th></th>\n",
       "      <th>que_text</th>\n",
       "      <th>ans_text</th>\n",
       "    </tr>\n",
       "  </thead>\n",
       "  <tbody>\n",
       "    <tr>\n",
       "      <th>11630</th>\n",
       "      <td>[힘든, 연애, 좋, 은, 연애, 라는, 게, 무슨, 차이, 일까, ?]</td>\n",
       "      <td>[잘, 헤어질, 수, 있, 는, 사이, 여부, 인, 거, 같, 아요, .]</td>\n",
       "    </tr>\n",
       "    <tr>\n",
       "      <th>11631</th>\n",
       "      <td>[힘들, 어서, 결혼, 할까봐]</td>\n",
       "      <td>[도피성, 결혼, 은, 하, 지, 않, 길, 바라, 요, .]</td>\n",
       "    </tr>\n",
       "    <tr>\n",
       "      <th>11632</th>\n",
       "      <td>[12, 시, 땡]</td>\n",
       "      <td>[하루, 가, 또, 가, 네요, .]</td>\n",
       "    </tr>\n",
       "    <tr>\n",
       "      <th>11633</th>\n",
       "      <td>[1, 지망, 학교, 떨어졌, 어]</td>\n",
       "      <td>[위로, 해, 드립니다, .]</td>\n",
       "    </tr>\n",
       "    <tr>\n",
       "      <th>11634</th>\n",
       "      <td>[3, 박, 4, 일, 놀, 러, 가, 고, 싶, 다]</td>\n",
       "      <td>[여행, 은, 언제나, 좋, 죠, .]</td>\n",
       "    </tr>\n",
       "    <tr>\n",
       "      <th>11635</th>\n",
       "      <td>[3, 박, 4, 일, 정도, 놀, 러, 가, 고, 싶, 다]</td>\n",
       "      <td>[여행, 은, 언제나, 좋, 죠, .]</td>\n",
       "    </tr>\n",
       "    <tr>\n",
       "      <th>11636</th>\n",
       "      <td>[ppl, 강하, 네]</td>\n",
       "      <td>[눈살, 이, 찌푸려, 지, 죠, .]</td>\n",
       "    </tr>\n",
       "    <tr>\n",
       "      <th>11637</th>\n",
       "      <td>[sd, 카드, 망가졌, 어]</td>\n",
       "      <td>[다시, 새로, 사, 는, 게, 마음, 편해요, .]</td>\n",
       "    </tr>\n",
       "    <tr>\n",
       "      <th>11638</th>\n",
       "      <td>[sd, 카드, 안, 돼]</td>\n",
       "      <td>[다시, 새로, 사, 는, 게, 마음, 편해요, .]</td>\n",
       "    </tr>\n",
       "    <tr>\n",
       "      <th>11639</th>\n",
       "      <td>[sns, 들어맞, 팔, 왜, 안, 하, 지]</td>\n",
       "      <td>[잘, 모르, 고, 있, 을, 수, 도, 있, 어요, .]</td>\n",
       "    </tr>\n",
       "  </tbody>\n",
       "</table>\n",
       "</div>"
      ],
      "text/plain": [
       "                                       que_text  \\\n",
       "11630  [힘든, 연애, 좋, 은, 연애, 라는, 게, 무슨, 차이, 일까, ?]   \n",
       "11631                         [힘들, 어서, 결혼, 할까봐]   \n",
       "11632                                [12, 시, 땡]   \n",
       "11633                       [1, 지망, 학교, 떨어졌, 어]   \n",
       "11634            [3, 박, 4, 일, 놀, 러, 가, 고, 싶, 다]   \n",
       "11635        [3, 박, 4, 일, 정도, 놀, 러, 가, 고, 싶, 다]   \n",
       "11636                              [ppl, 강하, 네]   \n",
       "11637                          [sd, 카드, 망가졌, 어]   \n",
       "11638                            [sd, 카드, 안, 돼]   \n",
       "11639                 [sns, 들어맞, 팔, 왜, 안, 하, 지]   \n",
       "\n",
       "                                        ans_text  \n",
       "11630  [잘, 헤어질, 수, 있, 는, 사이, 여부, 인, 거, 같, 아요, .]  \n",
       "11631         [도피성, 결혼, 은, 하, 지, 않, 길, 바라, 요, .]  \n",
       "11632                       [하루, 가, 또, 가, 네요, .]  \n",
       "11633                           [위로, 해, 드립니다, .]  \n",
       "11634                      [여행, 은, 언제나, 좋, 죠, .]  \n",
       "11635                      [여행, 은, 언제나, 좋, 죠, .]  \n",
       "11636                      [눈살, 이, 찌푸려, 지, 죠, .]  \n",
       "11637              [다시, 새로, 사, 는, 게, 마음, 편해요, .]  \n",
       "11638              [다시, 새로, 사, 는, 게, 마음, 편해요, .]  \n",
       "11639           [잘, 모르, 고, 있, 을, 수, 도, 있, 어요, .]  "
      ]
     },
     "execution_count": 25,
     "metadata": {},
     "output_type": "execute_result"
    }
   ],
   "source": [
    "import pandas as pd\n",
    "\n",
    "# 열 이름 통일\n",
    "\n",
    "df_agmt_que_tokens.rename(columns={'augmented_que_text': 'que_text'}, inplace=True)\n",
    "df_agmt_ans_tokens.rename(columns={'augmented_ans_text': 'ans_text'}, inplace=True)\n",
    "\n",
    "# DataFrame을 행 기준으로 이어붙이기\n",
    "df_all_data = pd.concat([df_origin, df_agmt_que_tokens, df_agmt_ans_tokens], axis=0, ignore_index=True)\n",
    "\n",
    "# 결과 확인\n",
    "df_all_data.iloc[11630:11640, :]"
   ]
  },
  {
   "cell_type": "code",
   "execution_count": 26,
   "id": "f5ef2fae",
   "metadata": {},
   "outputs": [
    {
     "name": "stdout",
     "output_type": "stream",
     "text": [
      "34896\n"
     ]
    },
    {
     "data": {
      "text/plain": [
       "(34896, None)"
      ]
     },
     "execution_count": 26,
     "metadata": {},
     "output_type": "execute_result"
    }
   ],
   "source": [
    "len(df_all_data), print(len(que_corpus)*3)"
   ]
  },
  {
   "cell_type": "markdown",
   "id": "141d267e",
   "metadata": {},
   "source": [
    "### 데이터 증강 및 이어붙이기가 잘 수행되었음을 확인할 수 있다."
   ]
  },
  {
   "cell_type": "markdown",
   "id": "83383166",
   "metadata": {},
   "source": [
    "# 5. data Vectorization "
   ]
  },
  {
   "cell_type": "code",
   "execution_count": 40,
   "id": "3107f6d2",
   "metadata": {},
   "outputs": [
    {
     "data": {
      "text/plain": [
       "0    [<start>, <start>, 하루, 가, 또, 가, 네요, ., <end>, ...\n",
       "1     [<start>, <start>, 위로, 해, 드립니다, ., <end>, <end>]\n",
       "2    [<start>, <start>, 여행, 은, 언제나, 좋, 죠, ., <end>,...\n",
       "3    [<start>, <start>, 여행, 은, 언제나, 좋, 죠, ., <end>,...\n",
       "4    [<start>, <start>, 눈살, 이, 찌푸려, 지, 죠, ., <end>,...\n",
       "Name: ans_text, dtype: object"
      ]
     },
     "execution_count": 40,
     "metadata": {},
     "output_type": "execute_result"
    }
   ],
   "source": [
    "#sample_data = [\"12\", \"시\", \"땡\", \"!\"]\n",
    "\n",
    "#print([\"<start>\"] + sample_data + [\"<end>\"])\n",
    "\n",
    "# \"ans_text\" 열을 복사하여 작업\n",
    "df_ans_text_copy = df_all_data['ans_text'].copy()\n",
    "\n",
    "# 각 행의 리스트에 \"<start>\"와 \"<end>\"를 추가\n",
    "for idx in range(len(df_ans_text_copy)):\n",
    "    df_ans_text_copy.iloc[idx] = [\"<start>\"] + df_ans_text_copy.iloc[idx] + [\"<end>\"]\n",
    "\n",
    "df_ans_text_copy.head()\n"
   ]
  },
  {
   "cell_type": "code",
   "execution_count": 41,
   "id": "901372b4",
   "metadata": {},
   "outputs": [],
   "source": [
    "que_corpus = df_all_data['que_text'].copy()\n",
    "ans_corpus = df_ans_text_copy"
   ]
  },
  {
   "cell_type": "code",
   "execution_count": 42,
   "id": "7dbcac39",
   "metadata": {
    "scrolled": true
   },
   "outputs": [
    {
     "data": {
      "text/html": [
       "<div>\n",
       "<style scoped>\n",
       "    .dataframe tbody tr th:only-of-type {\n",
       "        vertical-align: middle;\n",
       "    }\n",
       "\n",
       "    .dataframe tbody tr th {\n",
       "        vertical-align: top;\n",
       "    }\n",
       "\n",
       "    .dataframe thead th {\n",
       "        text-align: right;\n",
       "    }\n",
       "</style>\n",
       "<table border=\"1\" class=\"dataframe\">\n",
       "  <thead>\n",
       "    <tr style=\"text-align: right;\">\n",
       "      <th></th>\n",
       "      <th>que_text</th>\n",
       "      <th>ans_text</th>\n",
       "    </tr>\n",
       "  </thead>\n",
       "  <tbody>\n",
       "    <tr>\n",
       "      <th>0</th>\n",
       "      <td>[12, 시, 땡, !]</td>\n",
       "      <td>[&lt;start&gt;, &lt;start&gt;, 하루, 가, 또, 가, 네요, ., &lt;end&gt;, ...</td>\n",
       "    </tr>\n",
       "    <tr>\n",
       "      <th>1</th>\n",
       "      <td>[1, 지망, 학교, 떨어졌, 어]</td>\n",
       "      <td>[&lt;start&gt;, &lt;start&gt;, 위로, 해, 드립니다, ., &lt;end&gt;, &lt;end&gt;]</td>\n",
       "    </tr>\n",
       "    <tr>\n",
       "      <th>2</th>\n",
       "      <td>[3, 박, 4, 일, 놀, 러, 가, 고, 싶, 다]</td>\n",
       "      <td>[&lt;start&gt;, &lt;start&gt;, 여행, 은, 언제나, 좋, 죠, ., &lt;end&gt;,...</td>\n",
       "    </tr>\n",
       "    <tr>\n",
       "      <th>3</th>\n",
       "      <td>[3, 박, 4, 일, 정도, 놀, 러, 가, 고, 싶, 다]</td>\n",
       "      <td>[&lt;start&gt;, &lt;start&gt;, 여행, 은, 언제나, 좋, 죠, ., &lt;end&gt;,...</td>\n",
       "    </tr>\n",
       "    <tr>\n",
       "      <th>4</th>\n",
       "      <td>[ppl, 심하, 네]</td>\n",
       "      <td>[&lt;start&gt;, &lt;start&gt;, 눈살, 이, 찌푸려, 지, 죠, ., &lt;end&gt;,...</td>\n",
       "    </tr>\n",
       "  </tbody>\n",
       "</table>\n",
       "</div>"
      ],
      "text/plain": [
       "                             que_text  \\\n",
       "0                       [12, 시, 땡, !]   \n",
       "1                 [1, 지망, 학교, 떨어졌, 어]   \n",
       "2      [3, 박, 4, 일, 놀, 러, 가, 고, 싶, 다]   \n",
       "3  [3, 박, 4, 일, 정도, 놀, 러, 가, 고, 싶, 다]   \n",
       "4                        [ppl, 심하, 네]   \n",
       "\n",
       "                                            ans_text  \n",
       "0  [<start>, <start>, 하루, 가, 또, 가, 네요, ., <end>, ...  \n",
       "1   [<start>, <start>, 위로, 해, 드립니다, ., <end>, <end>]  \n",
       "2  [<start>, <start>, 여행, 은, 언제나, 좋, 죠, ., <end>,...  \n",
       "3  [<start>, <start>, 여행, 은, 언제나, 좋, 죠, ., <end>,...  \n",
       "4  [<start>, <start>, 눈살, 이, 찌푸려, 지, 죠, ., <end>,...  "
      ]
     },
     "execution_count": 42,
     "metadata": {},
     "output_type": "execute_result"
    }
   ],
   "source": [
    "df_all_data['ans_text'] = df_ans_text_copy\n",
    "df_all_data.head()"
   ]
  },
  {
   "cell_type": "markdown",
   "id": "0f904f1d",
   "metadata": {},
   "source": [
    "### 전체 데이터에 대한 단어 사전 구축, 벡터화 "
   ]
  },
  {
   "cell_type": "code",
   "execution_count": 43,
   "id": "f3023293",
   "metadata": {},
   "outputs": [
    {
     "name": "stdout",
     "output_type": "stream",
     "text": [
      "문장길이 평균 :  9.446297569922054\n",
      "문장길이 최대 :  44\n",
      "문장길이 표준편차 :  4.348048944154125\n",
      "pad_sequences maxlen :  18\n",
      "전체 문장의 0.9714723750573132%가 maxlen 설정값 이내에 포함됩니다. \n"
     ]
    }
   ],
   "source": [
    "'''\n",
    "데이터셋 내 문장 길이 분포\n",
    "적절한 최대 문장 길이 지정\n",
    "keras.preprocessing.sequence.pad_sequences 을 활용한 패딩 추가\n",
    "'''\n",
    "\n",
    "total_data_text = list(que_corpus) + list(ans_corpus)\n",
    "# 텍스트데이터 문장길이의 리스트를 생성한 후\n",
    "num_tokens = [len(tokens) for tokens in total_data_text]\n",
    "num_tokens = np.array(num_tokens)\n",
    "# 문장길이의 평균값, 최대값, 표준편차를 계산해 본다. \n",
    "print('문장길이 평균 : ', np.mean(num_tokens))\n",
    "print('문장길이 최대 : ', np.max(num_tokens))\n",
    "print('문장길이 표준편차 : ', np.std(num_tokens))\n",
    "\n",
    "# 예를들어, 최대 길이를 (평균 + 2*표준편차)로 한다면,  \n",
    "max_tokens = np.mean(num_tokens) + 2 * np.std(num_tokens)\n",
    "maxlen = int(max_tokens)\n",
    "print('pad_sequences maxlen : ', maxlen)\n",
    "print(f'전체 문장의 {np.sum(num_tokens < max_tokens) / len(num_tokens)}%가 maxlen 설정값 이내에 포함됩니다. ')"
   ]
  },
  {
   "cell_type": "markdown",
   "id": "ed50a7be",
   "metadata": {},
   "source": [
    "### 단어 사전 구축 및 벡터화에서 이해가 덜 되었다. 지난 디엘톤 때도 벡터화 코드를 구성하는 것이 어려웠는데 여전히 이해가 되지 않았다."
   ]
  },
  {
   "cell_type": "code",
   "execution_count": 44,
   "id": "3186ed3c",
   "metadata": {},
   "outputs": [
    {
     "ename": "NameError",
     "evalue": "name 'word_to_index' is not defined",
     "output_type": "error",
     "traceback": [
      "\u001b[0;31m---------------------------------------------------------------------------\u001b[0m",
      "\u001b[0;31mNameError\u001b[0m                                 Traceback (most recent call last)",
      "\u001b[0;32m/tmp/ipykernel_31/3139803264.py\u001b[0m in \u001b[0;36m<module>\u001b[0;34m\u001b[0m\n\u001b[1;32m      1\u001b[0m enc_train = tf.keras.preprocessing.sequence.pad_sequences(que_corpus,\n\u001b[0;32m----> 2\u001b[0;31m                                                         \u001b[0mvalue\u001b[0m\u001b[0;34m=\u001b[0m\u001b[0mword_to_index\u001b[0m\u001b[0;34m[\u001b[0m\u001b[0;34m\"<PAD>\"\u001b[0m\u001b[0;34m]\u001b[0m\u001b[0;34m,\u001b[0m\u001b[0;34m\u001b[0m\u001b[0;34m\u001b[0m\u001b[0m\n\u001b[0m\u001b[1;32m      3\u001b[0m                                                         \u001b[0mpadding\u001b[0m\u001b[0;34m=\u001b[0m\u001b[0;34m'pre'\u001b[0m\u001b[0;34m,\u001b[0m\u001b[0;34m\u001b[0m\u001b[0;34m\u001b[0m\u001b[0m\n\u001b[1;32m      4\u001b[0m                                                         maxlen=maxlen)\n\u001b[1;32m      5\u001b[0m dec_train = tf.keras.preprocessing.sequence.pad_sequences(ans_corpus,\n",
      "\u001b[0;31mNameError\u001b[0m: name 'word_to_index' is not defined"
     ]
    }
   ],
   "source": [
    "enc_train = tf.keras.preprocessing.sequence.pad_sequences(que_corpus,\n",
    "                                                        value=word_to_index[\"<PAD>\"],\n",
    "                                                        padding='pre', \n",
    "                                                        maxlen=maxlen)\n",
    "dec_train = tf.keras.preprocessing.sequence.pad_sequences(ans_corpus,\n",
    "                                                        value=word_to_index[\"<PAD>\"],\n",
    "                                                        padding='pre', \n",
    "                                                        maxlen=maxlen)"
   ]
  },
  {
   "cell_type": "markdown",
   "id": "d3c6a2d1",
   "metadata": {},
   "source": [
    "### 이 방법이 아닌 것 같다 !\n",
    "### 트랜스포머 챗봇에서 사용했던 'SubwordTextEncoder' 를 사용해보겠다."
   ]
  },
  {
   "cell_type": "code",
   "execution_count": null,
   "id": "cdecfb1f",
   "metadata": {},
   "outputs": [],
   "source": []
  },
  {
   "cell_type": "code",
   "execution_count": null,
   "id": "88c36cc3",
   "metadata": {},
   "outputs": [],
   "source": [
    "vocab_size = 10000    # 어휘 사전의 크기 (10,000개의 단어)\n",
    "word_vector_dim = 16  # 워드 벡터의 차원 수 (변경 가능한 하이퍼파라미터)"
   ]
  },
  {
   "cell_type": "code",
   "execution_count": null,
   "id": "8eff4df5",
   "metadata": {},
   "outputs": [],
   "source": []
  },
  {
   "cell_type": "markdown",
   "id": "6d433f9b",
   "metadata": {},
   "source": [
    "# 6. Training"
   ]
  },
  {
   "cell_type": "code",
   "execution_count": null,
   "id": "ed1833cf",
   "metadata": {},
   "outputs": [],
   "source": [
    "# Positional Encoding 구현\n",
    "def positional_encoding(pos, d_model):\n",
    "    def cal_angle(position, i):\n",
    "        return position / np.power(10000, (2*(i//2)) / np.float32(d_model))\n",
    "\n",
    "    def get_posi_angle_vec(position):\n",
    "        return [cal_angle(position, i) for i in range(d_model)]\n",
    "\n",
    "    sinusoid_table = np.array([get_posi_angle_vec(pos_i) for pos_i in range(pos)])\n",
    "\n",
    "    sinusoid_table[:, 0::2] = np.sin(sinusoid_table[:, 0::2])\n",
    "    sinusoid_table[:, 1::2] = np.cos(sinusoid_table[:, 1::2])\n",
    "\n",
    "\n",
    "    return sinusoid_table\n",
    "\n",
    "# Mask  생성하기\n",
    "def generate_padding_mask(seq):\n",
    "    # TODO: 구현\n",
    "    seq = tf.cast(tf.math.equal(seq, 0), tf.float32) # .cast : tensor dataType 변환 시 사용 \n",
    "    return seq[:, tf.newaxis, tf.newaxis, :]\n",
    "\n",
    "def generate_lookahead_mask(size):\n",
    "    # TODO: 구현\n",
    "    mask = 1 - tf.linalg.band_part(tf.ones((size, size)), -1, 0)  # 이해 안 됨 \n",
    "    return mask\n",
    "\n",
    "def generate_masks(src, tgt):\n",
    "    # TODO: 구현\n",
    "    enc_mask = generate_padding_mask(src)\n",
    "    dec_enc_mask = generate_padding_mask(src)\n",
    "\n",
    "    dec_lookahead_mask =generate_lookahead_mask(tgt.shape[1])\n",
    "    dec_tgt_padding_mask = generate_padding_mask(tgt)\n",
    "    dec_mask = tf.maximum(dec_tgt_padding_mask, dec_lookahead_mask)\n",
    "\n",
    "    return enc_mask, dec_enc_mask, dec_mask\n"
   ]
  },
  {
   "cell_type": "code",
   "execution_count": null,
   "id": "8669d944",
   "metadata": {},
   "outputs": [],
   "source": [
    "class MultiHeadAttention(tf.keras.layers.Layer):\n",
    "    def __init__(self, d_model, num_heads):\n",
    "        super(MultiHeadAttention, self).__init__()\n",
    "        self.num_heads = num_heads\n",
    "        self.d_model = d_model\n",
    "        \n",
    "        self.depth = d_model // self.num_heads\n",
    "        \n",
    "        self.W_q = tf.keras.layers.Dense(d_model)\n",
    "        self.W_k = tf.keras.layers.Dense(d_model)\n",
    "        self.W_v = tf.keras.layers.Dense(d_model)\n",
    "        \n",
    "        self.linear = tf.keras.layers.Dense(d_model)\n",
    "\n",
    "    def scaled_dot_product_attention(self, Q, K, V, mask):\n",
    "        # TODO: 구현\n",
    "        d_k = tf.cast(K.shape[-1], tf.float32) # tensor type 변환, Q. K.shape[-1] 의미는? // Q. 왜 float32 아니고 tf.float32 ?\n",
    "        QK = tf.matmul(Q, K, transpose_b = True) # matmul() : 두 텐서의 행렬 곱셈(내적)을 계산하는 함수\n",
    "\n",
    "        scaled_qk = QK / tf.math.sqrt(d_k)\n",
    "\n",
    "        if mask is not None : scaled_qk += (mask * -1e9)  # 수식이 가지는 의미 ??\n",
    "\n",
    "        attentions = tf.nn.softmax(scaled_qk, axis=-1)  # softmax(), axis=-1 의 의미 ?? \n",
    "        out = tf.matmul(attentions, V)  # 행렬곱 (내적)\n",
    "\n",
    "        return out, attentions\n",
    "        \n",
    "    def split_heads(self, x):\n",
    "        # TODO: 구현\n",
    "        bsz = x.shape[0]  # x.shape[0]의 의미 ?? \n",
    "        split_x = tf.reshape(x, (bsz, -1, self.num_heads, self.depth)) \n",
    "        split_x = tf.transpose(split_x, perm=[0, 2, 1, 3])  # 차원 변환 \n",
    "\n",
    "        return split_x\n",
    "\n",
    "    def combine_heads(self, x):\n",
    "        # TODO: 구현\n",
    "        bsz = x.shape[0]  # batch size = 입력텐서 x의 0번째 차원 \n",
    "        combined_x = tf.transpose(x, perm=[0, 2, 1, 3])\n",
    "        combined_x = tf.reshape(combined_x, (bsz, -1, self.d_model))\n",
    "\n",
    "        return combined_x\n",
    "\n",
    "    \n",
    "    def call(self, Q, K, V, mask):\n",
    "        WQ = self.W_q(Q)    # 입력 쿼리,키,값에 대한 선형 변환 \n",
    "        WK = self.W_k(K)\n",
    "        WV = self.W_v(V)\n",
    "        \n",
    "        WQ_splits = self.split_heads(WQ)  # 여러 어텐션 헤드로 분리 \n",
    "        WK_splits = self.split_heads(WK)\n",
    "        WV_splits = self.split_heads(WV)\n",
    "        \n",
    "        out, attention_weights = self.scaled_dot_product_attention(\n",
    "            WQ_splits, WK_splits, WV_splits, mask) # 어텐션 점수와 가중치 계산\n",
    "                        \n",
    "        out = self.combine_heads(out) # 어텐션 헤드 결합 -> 최종 결과 텐서 생성\n",
    "        out = self.linear(out) # 최종 선형 변환 \n",
    "            \n",
    "        return out, attention_weights"
   ]
  },
  {
   "cell_type": "code",
   "execution_count": null,
   "id": "824c3635",
   "metadata": {},
   "outputs": [],
   "source": [
    "### Position-wise Feed Forward Network 구현\n",
    "\n",
    "class PoswiseFeedForwardNet(tf.keras.layers.Layer):\n",
    "    def __init__(self, d_model, d_ff):\n",
    "        super(PoswiseFeedForwardNet, self).__init__()\n",
    "        self.d_model = d_model\n",
    "        self.d_ff = d_ff\n",
    "\n",
    "        self.fc1 = tf.keras.layers.Dense(d_ff, activation='relu')  # 입력 x의 차원을 d_ff 로 확장, activation function 적용 (relu -> 비선형성 추가)\n",
    "        self.fc2 = tf.keras.layers.Dense(d_model) # 확장된 차원을 다시 d_model로 축소 (-> 입력 차원과 일치시킴)\n",
    "        ##### Q. 차원을 확장하는 이유는? 다시 줄이는 이유는?  \n",
    "        ##### A. 두 단계의 변환 -> 고차원 공간에서의 특징 학습, 모델 학습 능력 향상시킴, 트랜스포머 성능 높임 \n",
    "        ##### 벡터화 시키는 것을 말함 \n",
    "        ## Dense layer : 선형 변환 수행 \n",
    "\n",
    "    def call(self, x):\n",
    "        out = self.fc1(x)\n",
    "        out = self.fc2(out)\n",
    "            \n",
    "        return out"
   ]
  },
  {
   "cell_type": "code",
   "execution_count": null,
   "id": "d71d1de4",
   "metadata": {},
   "outputs": [],
   "source": [
    "class EncoderLayer(tf.keras.layers.Layer):\n",
    "    def __init__(self, d_model, n_heads, d_ff, dropout):\n",
    "        super(EncoderLayer, self).__init__()\n",
    "\n",
    "        self.enc_self_attn = MultiHeadAttention(d_model, n_heads)\n",
    "        self.ffn = PoswiseFeedForwardNet(d_model, d_ff)\n",
    "\n",
    "        self.norm_1 = tf.keras.layers.LayerNormalization(epsilon=1e-6)\n",
    "        self.norm_2 = tf.keras.layers.LayerNormalization(epsilon=1e-6)\n",
    "\n",
    "        self.do = tf.keras.layers.Dropout(dropout)\n",
    "        \n",
    "    def call(self, x, mask):\n",
    "        '''\n",
    "        Multi-Head Attention\n",
    "        '''\n",
    "        # 잔차 연결을 위한 원본 입력 저장\n",
    "        residual = x  \n",
    "        # 입력 x를 정규화\n",
    "        out = self.norm_1(x)\n",
    "        # 멀티헤드 어텐션 수행: 자기 자신을 쿼리, 키, 값으로 사용\n",
    "        out, enc_attn = self.enc_self_attn(out, out, out, mask)\n",
    "        # Dropout 적용\n",
    "        out = self.do(out)\n",
    "        # 원본 입력과 결과를 더해 잔차 연결\n",
    "        out += residual\n",
    "\n",
    "        '''\n",
    "        Position-Wise Feed Forward Network\n",
    "        '''\n",
    "        # 잔차 연결을 위한 중간 결과 저장\n",
    "        residual = out  \n",
    "        # 정규화 적용\n",
    "        out = self.norm_2(out)\n",
    "        # 포지션-와이즈 피드 포워드 네트워크 수행\n",
    "        out = self.ffn(out)\n",
    "        # Dropout 적용\n",
    "        out = self.do(out)\n",
    "        # 원본 입력과 결과를 더해 잔차 연결\n",
    "        out += residual\n",
    "\n",
    "        return out, enc_attn\n"
   ]
  },
  {
   "cell_type": "code",
   "execution_count": null,
   "id": "afe76fbd",
   "metadata": {},
   "outputs": [],
   "source": [
    "class DecoderLayer(tf.keras.layers.Layer):\n",
    "    def __init__(self, d_model, num_heads, d_ff, dropout):\n",
    "        super(DecoderLayer, self).__init__()\n",
    "\n",
    "        self.dec_self_attn = MultiHeadAttention(d_model, num_heads)  # 디코더 자기 어텐션\n",
    "        self.enc_dec_attn = MultiHeadAttention(d_model, num_heads)   # 인코더-디코더 어텐션\n",
    "\n",
    "        self.ffn = PoswiseFeedForwardNet(d_model, d_ff)  # 포지션-와이즈 피드 포워드 네트워크\n",
    "\n",
    "        self.norm_1 = tf.keras.layers.LayerNormalization(epsilon=1e-6)  # 정규화 레이어\n",
    "        self.norm_2 = tf.keras.layers.LayerNormalization(epsilon=1e-6)\n",
    "        self.norm_3 = tf.keras.layers.LayerNormalization(epsilon=1e-6)\n",
    "\n",
    "        self.do = tf.keras.layers.Dropout(dropout)  # 드롭아웃 레이어\n",
    "\n",
    "    \n",
    "    def call(self, x, enc_out, dec_enc_mask, padding_mask):\n",
    "        '''\n",
    "        Masked Multi-Head Attention\n",
    "        '''\n",
    "        residual = x  # 현재 입력 x를 residual에 저장하여 후에 잔차 연결에 사용\n",
    "        out = self.norm_1(x) # 입력 x를 정규화\n",
    "        out, dec_attn = self.dec_self_attn(out, out, out, padding_mask) # 쿼리(Q), 키(K), 값(V) 모두 out으로 설정하고, padding_mask를 사용하여 특정 위치를 마스킹함\n",
    "                    ## 이 단계는 이전 단어들에만 의존하여 다음 단어를 예측하도록 함 \n",
    "        out = self.do(out) # 드롭아웃을 적용하여 과적합을 방지함 \n",
    "        out += residual # 원래 입력 x와 결과 out을 더하여 잔차 연결을 생성함 \n",
    "\n",
    "        '''\n",
    "        Multi-Head Attention\n",
    "        '''\n",
    "        residual = out # 중간 결과 저장 -> 후속 잔차 연결에서 사용 \n",
    "        out = self.norm_2(out) # 출력 정규화 \n",
    "        # Q, K, V 순서에 주의하세요!\n",
    "        out, dec_enc_attn = self.enc_dec_attn(Q=out, K=enc_out, V=enc_out, mask=dec_enc_mask)\n",
    "        out = self.do(out) # 드롭아웃 적용 \n",
    "        out += residual # 잔차연결 생성 \n",
    "        \n",
    "        '''\n",
    "        Position-Wise Feed Forward Network\n",
    "        '''\n",
    "        residual = out # 중간 결과 저장 \n",
    "        out = self.norm_3(out) # 출력 정규화 \n",
    "                ### Q. 세 번의 출력 정규화에서 왜 각각 다른 레이어 객체를 생성하여 사용하는가? \n",
    "        out = self.ffn(out) # 포지션-와이즈 피드포워드 넷 \n",
    "        out = self.do(out) \n",
    "        out += residual \n",
    "\n",
    "        return out, dec_attn, dec_enc_attn  # 최종 출력 out과 두 개의 어텐션 가중치 (디코더 자기 어텐션, 인코더-디코더 어텐션)"
   ]
  },
  {
   "cell_type": "code",
   "execution_count": null,
   "id": "918221c1",
   "metadata": {},
   "outputs": [],
   "source": [
    "# Encoder 구현\n",
    "class Encoder(tf.keras.Model):\n",
    "    def __init__(self,\n",
    "                    n_layers, # 인코더 레이어 개수 \n",
    "                    d_model,  # 모델 차원 \n",
    "                    n_heads,  # 멀티헤드 어텐션 헤드 개수  \n",
    "                    d_ff,  # 포지션-와이즈 피드포워드 넷 차원 (ex. 2048)\n",
    "                    dropout):  # do 비율 (ex. 0.1)\n",
    "        super(Encoder, self).__init__()  \n",
    "        self.n_layers = n_layers  # 해당 개수만큼 인코더레이어 객체를 생성 -> 리스트 저장 (트랜스포머 인코더 레이어 구성함)\n",
    "        self.enc_layers = [EncoderLayer(d_model, n_heads, d_ff, dropout) \n",
    "                        for _ in range(n_layers)]\n",
    "    \n",
    "        self.do = tf.keras.layers.Dropout(dropout)  # 드롭아웃 적용 위한 do 레이어 초기화 \n",
    "        \n",
    "    def call(self, x, mask):\n",
    "        # TODO: 구현\n",
    "        out = x\n",
    "    \n",
    "        enc_attns = list()\n",
    "        for i in range(self.n_layers):\n",
    "            out, enc_attn = self.enc_layers[i](out, mask) # 각 레이어에 대해 호출 \n",
    "            enc_attns.append(enc_attn) # 각 레이어의 어텐션 가중치 저장 \n",
    "        \n",
    "        return out, enc_attns\n",
    "print(\"슝=3\")"
   ]
  },
  {
   "cell_type": "code",
   "execution_count": null,
   "id": "a442a374",
   "metadata": {},
   "outputs": [],
   "source": [
    "class Decoder(tf.keras.Model):\n",
    "    def __init__(self,\n",
    "                    n_layers,\n",
    "                    d_model,\n",
    "                    n_heads,\n",
    "                    d_ff,\n",
    "                    dropout):\n",
    "        super(Decoder, self).__init__()\n",
    "        self.n_layers = n_layers  # n_layers만큼 DecoderLayer 객체를 생성하여 리스트에 저장\n",
    "        self.dec_layers = [DecoderLayer(d_model, n_heads, d_ff, dropout) \n",
    "                            for _ in range(n_layers)]\n",
    "                            \n",
    "    def call(self, x, enc_out, dec_enc_mask, padding_mask):\n",
    "                # x : 디코더 입력 시퀀스, 이전에 예측된 토큰들로 이루어진 시퀀스\n",
    "                # enc_out: 인코더의 출력, 즉 디코더가 어텐션을 수행할 대상\n",
    "                # dec_enc_mask: 인코더 출력에 대한 마스크로, 디코더의 인코더-디코더 어텐션 단계에서 사용\n",
    "                # padding_mask: 패딩된 위치를 마스킹하기 위한 텐서로, 디코더 자기 어텐션에 사용\n",
    "        \n",
    "        out = x  # 초기 출력을 x로 설정 \n",
    "\n",
    "        dec_attns = list()  # 각 디코더 레이어에서 계산된 어텐션 가중치를 저장할 리스트 초기화 \n",
    "        dec_enc_attns = list()\n",
    "        for i in range(self.n_layers): \n",
    "            out, dec_attn, dec_enc_attn = \\\n",
    "            self.dec_layers[i](out, enc_out, dec_enc_mask, padding_mask)\n",
    "                    # 각 디코더 레이어에서 셀프어텐션, 인코더-디코더 어텐션, 포지션-와이즈 피드포워드 넷 수행됨 \n",
    "                    # dec_attn : 각 디코더 레이어에서 수행된 셀프어텐션 가중치\n",
    "                    # dec_enc_attn : 각 디코더 레이어에서 수행된 인코더-디코더 어텐션의 가중치 \n",
    "\n",
    "            dec_attns.append(dec_attn) # 가중치를 리스트에 추가 \n",
    "            dec_enc_attns.append(dec_enc_attn) # 인코더-디코더 어텐션 가중치를 리스트에 추가 \n",
    "\n",
    "        return out, dec_attns, dec_enc_attns  # 디코더 레이어의 셀프어텐션, 인코더-디코더 어텐션 가중치 반환 "
   ]
  },
  {
   "cell_type": "code",
   "execution_count": null,
   "id": "71ef32e2",
   "metadata": {},
   "outputs": [],
   "source": [
    "class Transformer(tf.keras.Model):\n",
    "    def __init__(self,\n",
    "                    n_layers,\n",
    "                    d_model,\n",
    "                    n_heads,\n",
    "                    d_ff,\n",
    "                    src_vocab_size,  # 소스 단어 집합 크기 \n",
    "                    tgt_vocab_size,  # 타겟 단어 집합 크기 \n",
    "                    pos_len,         # 포지셔널 인코딩 길이 \n",
    "                    dropout=0.2,     # Q. 드롭아웃 비율이 무엇을 의미하더라 ?\n",
    "                    shared_fc=True,  # 임베딩과 FC레이어의 가중치를 공유할지 여부 \n",
    "                    shared_emb=False):  # 인코더-디코더 임베딩 공유할지 여부 \n",
    "        super(Transformer, self).__init__() \n",
    "        \n",
    "        self.d_model = tf.cast(d_model, tf.float32)\n",
    "\n",
    "        if shared_emb:\n",
    "            self.enc_emb = self.dec_emb = \\\n",
    "            tf.keras.layers.Embedding(src_vocab_size, d_model)\n",
    "        else:\n",
    "            self.enc_emb = tf.keras.layers.Embedding(src_vocab_size, d_model)\n",
    "            self.dec_emb = tf.keras.layers.Embedding(tgt_vocab_size, d_model)\n",
    "\n",
    "        self.pos_encoding = positional_encoding(pos_len, d_model)\n",
    "        self.do = tf.keras.layers.Dropout(dropout)\n",
    "\n",
    "        self.encoder = Encoder(n_layers, d_model, n_heads, d_ff, dropout)\n",
    "        self.decoder = Decoder(n_layers, d_model, n_heads, d_ff, dropout)\n",
    "\n",
    "        self.fc = tf.keras.layers.Dense(tgt_vocab_size)\n",
    "\n",
    "        self.shared_fc = shared_fc\n",
    "\n",
    "        if shared_fc:\n",
    "            self.fc.set_weights(tf.transpose(self.dec_emb.weights))\n",
    "\n",
    "    def embedding(self, emb, x):\n",
    "        seq_len = x.shape[1]\n",
    "\n",
    "        out = emb(x)\n",
    "\n",
    "        if self.shared_fc: out *= tf.math.sqrt(self.d_model)\n",
    "\n",
    "        out += self.pos_encoding[np.newaxis, ...][:, :seq_len, :]\n",
    "        out = self.do(out)\n",
    "\n",
    "        return out\n",
    "\n",
    "        \n",
    "    def call(self, enc_in, dec_in, enc_mask, dec_enc_mask, dec_mask):\n",
    "        enc_in = self.embedding(self.enc_emb, enc_in)\n",
    "        dec_in = self.embedding(self.dec_emb, dec_in)\n",
    "\n",
    "        enc_out, enc_attns = self.encoder(enc_in, enc_mask)\n",
    "        \n",
    "        dec_out, dec_attns, dec_enc_attns = \\\n",
    "        self.decoder(dec_in, enc_out, dec_enc_mask, dec_mask)\n",
    "        \n",
    "        logits = self.fc(dec_out)\n",
    "        \n",
    "        return logits, enc_attns, dec_attns, dec_enc_attns"
   ]
  },
  {
   "cell_type": "code",
   "execution_count": null,
   "id": "35064fa9",
   "metadata": {},
   "outputs": [],
   "source": [
    "# 주어진 하이퍼파라미터로 Transformer 인스턴스 생성\n",
    "\n",
    "transformer = Transformer(\n",
    "    n_layers=2,\n",
    "    d_model=512,\n",
    "    n_heads=8,\n",
    "    d_ff=2048,\n",
    "    src_vocab_size=VOCAB_SIZE,\n",
    "    tgt_vocab_size=VOCAB_SIZE,\n",
    "    pos_len=200,\n",
    "    dropout=0.3,\n",
    "    shared_fc=True,\n",
    "    shared_emb=True)\n",
    "\n",
    "d_model = 512\n",
    "\n",
    "print(\"슝=3\")"
   ]
  },
  {
   "cell_type": "code",
   "execution_count": null,
   "id": "fcdb3785",
   "metadata": {},
   "outputs": [],
   "source": [
    "# Learning Rate Scheduler 구현\n",
    "class LearningRateScheduler(tf.keras.optimizers.schedules.LearningRateSchedule):\n",
    "    def __init__(self, d_model, warmup_steps=4000):\n",
    "        super(LearningRateScheduler, self).__init__()\n",
    "        \n",
    "        self.d_model = d_model\n",
    "        self.warmup_steps = warmup_steps\n",
    "    \n",
    "    def __call__(self, step):\n",
    "        # TODO: 구현\n",
    "        arg1 = step ** -0.5\n",
    "        arg2 = step * (self.warmup_steps ** -1.5)\n",
    "        \n",
    "        return (self.d_model ** -0.5) * tf.math.minimum(arg1, arg2)\n",
    "print(\"슝=3\")"
   ]
  },
  {
   "cell_type": "code",
   "execution_count": null,
   "id": "9b533a17",
   "metadata": {},
   "outputs": [],
   "source": [
    "# Learning Rate 인스턴스 선언 & Optimizer 구현\n",
    "\n",
    "learning_rate = LearningRateScheduler(d_model)\n",
    "\n",
    "optimizer = tf.keras.optimizers.Adam(learning_rate,\n",
    "                                    beta_1 = 0.9,\n",
    "                                    beta_2 = 0.98,\n",
    "                                    epsilon = 1e-9)\n",
    "\n",
    "print(\"슝=3\")"
   ]
  },
  {
   "cell_type": "code",
   "execution_count": null,
   "id": "ce348df5",
   "metadata": {},
   "outputs": [],
   "source": [
    "# Loss Function 정의\n",
    "loss_object = tf.keras.losses.SparseCategoricalCrossentropy(\n",
    "    from_logits=True, reduction='none')\n",
    "\n",
    "def loss_function(real, pred):\n",
    "    # TODO: 구현\n",
    "    mask = tf.math.logical_not(tf.math.equal(real, 0))\n",
    "    loss_ = loss_object(real, pred)\n",
    "\n",
    "    mask = tf.cast(mask, dtype=loss_.dtype)\n",
    "    loss_ *= mask\n",
    "    \n",
    "    return tf.reduce_sum(loss_)/tf.reduce_sum(mask)\n",
    "print(\"슝=3\")"
   ]
  },
  {
   "cell_type": "code",
   "execution_count": null,
   "id": "47d205a0",
   "metadata": {},
   "outputs": [],
   "source": [
    "# Train Step 정의\n",
    "@tf.function()\n",
    "def train_step(src, tgt, model, optimizer):\n",
    "    # TODO: 구현    \n",
    "    tgt_in = tgt[:, :-1]  # Decoder의 input\n",
    "    gold = tgt[:, 1:]     # Decoder의 output과 비교하기 위해 right shift를 통해 생성한 최종 타겟\n",
    "\n",
    "    enc_mask, dec_enc_mask, dec_mask = generate_masks(src, tgt_in)\n",
    "\n",
    "    with tf.GradientTape() as tape:\n",
    "        predictions, enc_attns, dec_attns, dec_enc_attns = \\\n",
    "        model(src, tgt_in, enc_mask, dec_enc_mask, dec_mask)\n",
    "        loss = loss_function(gold, predictions)\n",
    "\n",
    "    gradients = tape.gradient(loss, model.trainable_variables)    \n",
    "    optimizer.apply_gradients(zip(gradients, model.trainable_variables))\n",
    "\n",
    "    return loss, enc_attns, dec_attns, dec_enc_attns\n",
    "print(\"슝=3\")"
   ]
  },
  {
   "cell_type": "code",
   "execution_count": null,
   "id": "44e96969",
   "metadata": {},
   "outputs": [],
   "source": [
    "### 승환님 코드 \n",
    "\n",
    "EPOCHS = 3 \n",
    "\n",
    "for epoch in range(EPOCHS):\n",
    "    total_loss = 0\n",
    "    \n",
    "    dataset_count = tf.data.experimental.cardinality(train_dataset).numpy()\n",
    "    tqdm_bar = tqdm(enumerate(train_dataset), total=dataset_count, desc=f'Epoch {epoch+1}/{EPOCHS}')\n",
    "\n",
    "    for batch, (src, tgt) in tqdm_bar:\n",
    "        batch_loss, enc_attns, dec_attns, dec_enc_attns = \\\n",
    "        train_step(src, tgt, transformer, optimizer)  \n",
    "\n",
    "        total_loss += batch_loss\n",
    "        \n",
    "        tqdm_bar.set_description_str('Epoch %2d' % (epoch + 1))\n",
    "        tqdm_bar.set_postfix_str('Loss %.4f' % (total_loss.numpy() / (batch + 1))) \n"
   ]
  },
  {
   "cell_type": "markdown",
   "id": "c0c757f5",
   "metadata": {},
   "source": [
    "# 예문\n",
    "1. 지루하다, 놀러가고 싶어.\n",
    "2. 오늘 일찍 일어났더니 피곤하다.\n",
    "3. 간만에 여자친구랑 데이트 하기로 했어.\n",
    "4. 집에 있는다는 소리야.\n",
    "\n",
    "---\n",
    "\n",
    "# 제출\n",
    "\n",
    "Translations\n",
    "> 1. 잠깐 쉬 어도 돼요 . <end>\n",
    "> 2. 맛난 거 드세요 . <end>\n",
    "> 3. 떨리 겠 죠 . <end>\n",
    "> 4. 좋 아 하 면 그럴 수 있 어요 . <end>\n",
    "\n",
    "Hyperparameters\n",
    "> n_layers: 1\n",
    "> d_model: 368\n",
    "> n_heads: 8\n",
    "> d_ff: 1024\n",
    "> dropout: 0.2\n",
    "\n",
    "Training Parameters\n",
    "> Warmup Steps: 1000\n",
    "> Batch Size: 64\n",
    "> Epoch At: 10\n"
   ]
  },
  {
   "cell_type": "markdown",
   "id": "6d64e6ad",
   "metadata": {},
   "source": [
    "# 7. BLEU Score"
   ]
  },
  {
   "cell_type": "code",
   "execution_count": null,
   "id": "3475626e",
   "metadata": {},
   "outputs": [],
   "source": []
  },
  {
   "cell_type": "markdown",
   "id": "380e66c4",
   "metadata": {},
   "source": []
  }
 ],
 "metadata": {
  "kernelspec": {
   "display_name": "Python 3 (ipykernel)",
   "language": "python",
   "name": "python3"
  },
  "language_info": {
   "codemirror_mode": {
    "name": "ipython",
    "version": 3
   },
   "file_extension": ".py",
   "mimetype": "text/x-python",
   "name": "python",
   "nbconvert_exporter": "python",
   "pygments_lexer": "ipython3",
   "version": "3.9.7"
  }
 },
 "nbformat": 4,
 "nbformat_minor": 5
}
